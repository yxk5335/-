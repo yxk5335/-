{
 "cells": [
  {
   "cell_type": "markdown",
   "metadata": {},
   "source": [
    "### 回溯问题\n",
    "#实际上就是一个决策树的遍历过程。\n",
    "#你只需要思考 3 个问题：\n",
    "#1、路径：也就是已经做出的选择。\n",
    "#2、选择列表：也就是你当前可以做的选择。\n",
    "#3、结束条件：也就是到达决策树底层，无法再做选择的条件。\n",
    "\n",
    "#代码方面，回溯算法的框架：\n",
    "    #result = []\n",
    "    #def backtrack(路径, 选择列表):\n",
    "        #if 满足结束条件:\n",
    "            #result.append(路径)\n",
    "            #return\n",
    "\n",
    "        #for 选择 in 选择列表:\n",
    "            #做选择\n",
    "            #backtrack(路径, 选择列表)\n",
    "            #撤销选择\n",
    "     \n",
    "#我们只要在递归之前做出选择，在递归之后撤销刚才的选择，就能正确得到每个节点的选择列表和路径。"
   ]
  },
  {
   "cell_type": "markdown",
   "metadata": {},
   "source": [
    "回文子串回溯解法\n",
    " #第一种不用pop tmp的append直接写在helper方程里（推荐这种！！！！）\n",
    " #第二种用pop tem的append写在helper方程外面，且加入res时要用浅拷贝"
   ]
  },
  {
   "cell_type": "code",
   "execution_count": 36,
   "metadata": {
    "ExecuteTime": {
     "end_time": "2020-11-23T13:27:47.275660Z",
     "start_time": "2020-11-23T13:27:47.269640Z"
    }
   },
   "outputs": [
    {
     "data": {
      "text/plain": [
       "[['a', 'a', 'b', 'b'], ['a', 'a', 'bb'], ['aa', 'b', 'b'], ['aa', 'bb']]"
      ]
     },
     "execution_count": 36,
     "metadata": {},
     "output_type": "execute_result"
    }
   ],
   "source": [
    "# 给定一个字符串 s，将 s 分割成一些子串，使每个子串都是回文串。\n",
    "class Solution:\n",
    "    def partition(self, s):\n",
    "        res = []\n",
    "        def helper(s, tmp):\n",
    "            #print(s,tmp)\n",
    "            if not s:\n",
    "                res.append(tmp)\n",
    "            for i in range(1, len(s) + 1):\n",
    "                if s[:i] == s[:i][::-1]:\n",
    "                    helper(s[i:], tmp+[s[:i]])\n",
    "        helper(s, [])\n",
    "        return res\n",
    "Solution().partition('aabb')"
   ]
  },
  {
   "cell_type": "code",
   "execution_count": 35,
   "metadata": {
    "ExecuteTime": {
     "end_time": "2020-11-23T13:27:23.287239Z",
     "start_time": "2020-11-23T13:27:23.279260Z"
    }
   },
   "outputs": [
    {
     "data": {
      "text/plain": [
       "[['a', 'a', 'b', 'b'], ['a', 'a', 'bb'], ['aa', 'b', 'b'], ['aa', 'bb']]"
      ]
     },
     "execution_count": 35,
     "metadata": {},
     "output_type": "execute_result"
    }
   ],
   "source": [
    "# 给定一个字符串 s，将 s 分割成一些子串，使每个子串都是回文串。\n",
    "class Solution:\n",
    "    def partition(self, s):\n",
    "        res = []\n",
    "        def helper(s, tmp):\n",
    "            #print(s,tmp)\n",
    "            if not s:\n",
    "                res.append(tmp[:])\n",
    "            for i in range(1, len(s) + 1):\n",
    "                if s[:i] == s[:i][::-1]:\n",
    "                    tmp = tmp+[s[:i]]\n",
    "                    helper(s[i:], tmp)\n",
    "                    tmp.pop()\n",
    "        helper(s, [])\n",
    "        return res\n",
    "Solution().partition('aabb')"
   ]
  },
  {
   "cell_type": "markdown",
   "metadata": {},
   "source": [
    "典型问题：排列、组合、子集"
   ]
  },
  {
   "cell_type": "code",
   "execution_count": 14,
   "metadata": {
    "ExecuteTime": {
     "end_time": "2020-05-26T01:10:28.658527Z",
     "start_time": "2020-05-26T01:10:28.653991Z"
    }
   },
   "outputs": [
    {
     "name": "stdout",
     "output_type": "stream",
     "text": [
      "[(4,), (3,), (2,), (1,)]\n",
      "[(4, 3, 1, 1), (4, 3, 1, 1), (4, 1, 3, 1), (4, 1, 1, 3), (4, 1, 3, 1), (4, 1, 1, 3), (3, 4, 1, 1), (3, 4, 1, 1), (3, 1, 4, 1), (3, 1, 1, 4), (3, 1, 4, 1), (3, 1, 1, 4), (1, 4, 3, 1), (1, 4, 1, 3), (1, 3, 4, 1), (1, 3, 1, 4), (1, 1, 4, 3), (1, 1, 3, 4), (1, 4, 3, 1), (1, 4, 1, 3), (1, 3, 4, 1), (1, 3, 1, 4), (1, 1, 4, 3), (1, 1, 3, 4)]\n",
      "[(4, 3), (4, 1), (4, 1), (3, 1), (3, 1), (1, 1)]\n",
      "[('1', '1'), ('1', '2'), ('1', '3'), ('1', '4'), ('2', '2'), ('2', '3'), ('2', '4'), ('3', '3'), ('3', '4'), ('4', '4')]\n"
     ]
    }
   ],
   "source": [
    "import itertools #导入itertools库\n",
    "print(list(itertools.product([4,3,2,1]))) #有重复的排列\n",
    "print(list(itertools.permutations([4,3,1,1], 4))) #无重复的排列\n",
    "print(list(itertools.combinations([4,3,1,1], 2))) #无重复的组合\n",
    "print(list(itertools.combinations_with_replacement('1234', 2))) #有重复的组合"
   ]
  },
  {
   "cell_type": "markdown",
   "metadata": {},
   "source": [
    "全排列 不去重"
   ]
  },
  {
   "cell_type": "code",
   "execution_count": null,
   "metadata": {},
   "outputs": [],
   "source": [
    "# 这种不用pop的，可以和下面比较"
   ]
  },
  {
   "cell_type": "code",
   "execution_count": 32,
   "metadata": {
    "ExecuteTime": {
     "end_time": "2020-11-23T13:25:45.001973Z",
     "start_time": "2020-11-23T13:25:44.993957Z"
    }
   },
   "outputs": [
    {
     "data": {
      "text/plain": [
       "[[2, 4, 6], [2, 6, 4], [4, 2, 6], [4, 6, 2], [6, 2, 4], [6, 4, 2]]"
      ]
     },
     "execution_count": 32,
     "metadata": {},
     "output_type": "execute_result"
    }
   ],
   "source": [
    "class Solution(object):\n",
    "    def permute(self, nums):\n",
    "        if len(nums) <= 1:\n",
    "            return [nums]\n",
    "        visited = [False for _ in range(len(nums))]  # 记录那些元素已经访问\n",
    "        res = []\n",
    "        def dfs(numbers, result, cur, visit):\n",
    "            if len(cur) == len(numbers): #base\n",
    "                result.append(cur[:])  # 这里记得用cur[:]或拷贝\n",
    "                return\n",
    "            for i in range(len(numbers)):\n",
    "                if visit[i]:  # 如果已经访问过某元素，直接跳过进下一个元素\n",
    "                    continue\n",
    "                #cur.append(numbers[i]) #做选择\n",
    "                visit[i] = True  # 将访问过的元素标记\n",
    "                dfs(numbers, result, cur+[numbers[i]], visit)\n",
    "                #cur.pop()  # 撤销选择，恢复到之前状态\n",
    "                visit[i] = False  # 恢复到之前状态\n",
    "        dfs(nums, res, [], visited)\n",
    "        return res\n",
    "s = Solution()\n",
    "s.permute([2,4,6])"
   ]
  },
  {
   "cell_type": "code",
   "execution_count": 15,
   "metadata": {
    "ExecuteTime": {
     "end_time": "2020-05-25T14:12:34.550981Z",
     "start_time": "2020-05-25T14:12:34.541004Z"
    }
   },
   "outputs": [
    {
     "data": {
      "text/plain": [
       "[[2, 4, 6], [2, 6, 4], [4, 2, 6], [4, 6, 2], [6, 2, 4], [6, 4, 2]]"
      ]
     },
     "execution_count": 15,
     "metadata": {},
     "output_type": "execute_result"
    }
   ],
   "source": [
    "class Solution(object):\n",
    "    def permute(self, nums):\n",
    "        if len(nums) <= 1:\n",
    "            return [nums]\n",
    "        visited = [False for _ in range(len(nums))]  # 记录那些元素已经访问\n",
    "        res = []\n",
    "        def dfs(numbers, result, cur, visit):\n",
    "            if len(cur) == len(numbers): #base\n",
    "                result.append(cur[:])  # 这里记得用cur[:]或拷贝\n",
    "                return\n",
    "            for i in range(len(numbers)):\n",
    "                if visit[i]:  # 如果已经访问过某元素，直接跳过进下一个元素\n",
    "                    continue\n",
    "                cur.append(numbers[i]) #做选择\n",
    "                visit[i] = True  # 将访问过的元素标记\n",
    "                dfs(numbers, result, cur, visit)\n",
    "                cur.pop()  # 撤销选择，恢复到之前状态\n",
    "                visit[i] = False  # 恢复到之前状态\n",
    "        dfs(nums, res, [], visited)\n",
    "        return res\n",
    "s = Solution()\n",
    "s.permute([2,4,6])"
   ]
  },
  {
   "cell_type": "markdown",
   "metadata": {},
   "source": [
    "全排列，去重"
   ]
  },
  {
   "cell_type": "code",
   "execution_count": 5,
   "metadata": {
    "ExecuteTime": {
     "end_time": "2020-11-23T13:02:51.704877Z",
     "start_time": "2020-11-23T13:02:51.696899Z"
    }
   },
   "outputs": [
    {
     "data": {
      "text/plain": [
       "[[1, 1, 2], [1, 2, 1], [2, 1, 1]]"
      ]
     },
     "execution_count": 5,
     "metadata": {},
     "output_type": "execute_result"
    }
   ],
   "source": [
    "class Solution:\n",
    "    def permuteUnique(self, nums):\n",
    "        n = len(nums)\n",
    "        if n < 2:\n",
    "            return [nums]\n",
    "        def fun(tem,v):\n",
    "            if len(tem)==n:\n",
    "                r.append(tem[:]) # 回溯一定要浅拷贝\n",
    "                return\n",
    "            for i in range(n):\n",
    "                # 去重剪枝 \n",
    "                # 在排序情况下 当前元素和前一个相同，且前一个元素没有被访问过时，则此种情况就要剪枝\n",
    "                if i>0 and nums[i]==nums[i-1] and v[i-1]:\n",
    "                    continue\n",
    "                if not v[i]:\n",
    "                    tem.append(nums[i])\n",
    "                    v[i]=True\n",
    "                    fun(tem,v)\n",
    "                    v[i]=False\n",
    "                    tem.pop()\n",
    "        # 去重一定要排序\n",
    "        nums.sort()\n",
    "        r = []\n",
    "        v=[False]*n\n",
    "        fun([],v)\n",
    "        return r\n",
    "Solution().permuteUnique([1,2,1])\n",
    "# 123 # 123 132 213 231 312 321"
   ]
  },
  {
   "cell_type": "markdown",
   "metadata": {},
   "source": [
    "组合"
   ]
  },
  {
   "cell_type": "code",
   "execution_count": 9,
   "metadata": {
    "ExecuteTime": {
     "end_time": "2020-11-23T13:09:20.870339Z",
     "start_time": "2020-11-23T13:09:20.862360Z"
    }
   },
   "outputs": [
    {
     "data": {
      "text/plain": [
       "[[1, 2],\n",
       " [1, 4],\n",
       " [1, 1],\n",
       " [2, 1],\n",
       " [2, 4],\n",
       " [2, 1],\n",
       " [4, 1],\n",
       " [4, 2],\n",
       " [4, 1],\n",
       " [1, 1],\n",
       " [1, 2],\n",
       " [1, 4]]"
      ]
     },
     "execution_count": 9,
     "metadata": {},
     "output_type": "execute_result"
    }
   ],
   "source": [
    "def combine1(nums, m):\n",
    "    n = len(nums)\n",
    "    if n <= 1:\n",
    "        return nums\n",
    "    v = [False] * n\n",
    "    re = []\n",
    "    def fun(cur,v,m):\n",
    "        if len(cur) == m:\n",
    "            re.append(cur[:])\n",
    "            return\n",
    "        for i in range(n):\n",
    "            if v[i]:\n",
    "                continue\n",
    "            cur.append(nums[i])\n",
    "            v[i] = True\n",
    "            fun(cur,v,m)\n",
    "            cur.pop()\n",
    "            v[i] = False\n",
    "    fun([], v, m)\n",
    "    return re\n",
    "combine1([1,2,4,1],2)"
   ]
  },
  {
   "cell_type": "code",
   "execution_count": 54,
   "metadata": {
    "ExecuteTime": {
     "end_time": "2020-05-26T02:09:36.221121Z",
     "start_time": "2020-05-26T02:09:36.214105Z"
    }
   },
   "outputs": [
    {
     "data": {
      "text/plain": [
       "[[1, 2], [1, 4], [1, 8], [2, 4], [2, 8], [4, 8]]"
      ]
     },
     "execution_count": 54,
     "metadata": {},
     "output_type": "execute_result"
    }
   ],
   "source": [
    "#组合问题  Cmn\n",
    "def combine(lst, m):\n",
    "    result = []\n",
    "    tmp = [0] * m\n",
    "    length = len(lst)\n",
    "    def next_num(i=0, c=0):\n",
    "        if c == m:\n",
    "            result.append(tmp[:])\n",
    "            return\n",
    "        for j in range(i,length):\n",
    "            tmp[c] = lst[j]\n",
    "            next_num(j+1, c+1)\n",
    "    next_num()\n",
    "    return result\n",
    "combine([1,2,4,8],2)"
   ]
  },
  {
   "cell_type": "code",
   "execution_count": 47,
   "metadata": {
    "ExecuteTime": {
     "end_time": "2020-05-26T02:04:05.486173Z",
     "start_time": "2020-05-26T02:04:05.481161Z"
    }
   },
   "outputs": [
    {
     "name": "stdout",
     "output_type": "stream",
     "text": [
      "[1, 2, 3]\n",
      "\n",
      "Using Recursive: 1\n",
      "\n"
     ]
    }
   ],
   "source": [
    "def combNumber(m, n, b):\n",
    "    global totalNumberR\n",
    "    for i in range(m, n-1, -1):   \n",
    "        b[n-1] = i\n",
    "        if n-1>0:\n",
    "            combNumber(i-1,n-1,b)\n",
    "        else:\n",
    "            print(b)\n",
    "            totalNumberR += 1\n",
    "    return totalNumberR\n",
    "\n",
    "group=[1,2,3]\n",
    "totalNumberR = 0\n",
    "print(\"\\nUsing Recursive: %d\\n\" % combNumber(3,3,group))"
   ]
  },
  {
   "cell_type": "code",
   "execution_count": null,
   "metadata": {},
   "outputs": [],
   "source": []
  }
 ],
 "metadata": {
  "kernelspec": {
   "display_name": "Python 3",
   "language": "python",
   "name": "python3"
  },
  "language_info": {
   "codemirror_mode": {
    "name": "ipython",
    "version": 3
   },
   "file_extension": ".py",
   "mimetype": "text/x-python",
   "name": "python",
   "nbconvert_exporter": "python",
   "pygments_lexer": "ipython3",
   "version": "3.6.10"
  }
 },
 "nbformat": 4,
 "nbformat_minor": 4
}
