{
 "cells": [
  {
   "cell_type": "markdown",
   "metadata": {
    "ExecuteTime": {
     "end_time": "2020-06-16T07:25:10.152238Z",
     "start_time": "2020-06-16T07:25:10.149249Z"
    }
   },
   "source": [
    "# 查找和排序"
   ]
  },
  {
   "cell_type": "markdown",
   "metadata": {
    "ExecuteTime": {
     "end_time": "2020-06-16T03:09:44.818802Z",
     "start_time": "2020-06-16T03:09:44.815845Z"
    }
   },
   "source": [
    "## 查找"
   ]
  },
  {
   "cell_type": "markdown",
   "metadata": {},
   "source": [
    "#遍历\n",
    "#二分查找\n",
    "    #有序的顺序表\n",
    "    #折半查找，每次减半搜索范围\n",
    "#"
   ]
  },
  {
   "cell_type": "code",
   "execution_count": 37,
   "metadata": {
    "ExecuteTime": {
     "end_time": "2020-06-21T02:26:50.296240Z",
     "start_time": "2020-06-21T02:26:50.288296Z"
    }
   },
   "outputs": [
    {
     "name": "stdout",
     "output_type": "stream",
     "text": [
      "False\n",
      "False\n"
     ]
    }
   ],
   "source": [
    "#二分查找--递归\n",
    "def binary_search(li,target):\n",
    "    n = len(li)\n",
    "    if n > 0: #递归base\n",
    "        mid = n//2\n",
    "        if target == li[mid]:\n",
    "            return True\n",
    "        elif target < li[mid]:\n",
    "            return binary_search(li[:mid],target)\n",
    "        else:\n",
    "            return binary_search(li[mid+1:],target)\n",
    "    return False\n",
    "    \n",
    "if __name__ == '__main__':\n",
    "    li = [5,6,7,9,10]\n",
    "    print(binary_search(li,2))\n",
    "    \n",
    "#二分查找--非递归\n",
    "def binary_search2(lis,tar):\n",
    "    n = len(lis)\n",
    "    l,r = 0,n-1\n",
    "    while l <= r: #循环条件\n",
    "        mid = (l+r)//2\n",
    "        if tar == lis[mid]:\n",
    "            return True\n",
    "        elif tar < lis[mid]:\n",
    "            r = mid-1\n",
    "        else:\n",
    "            l = mid+1\n",
    "    return False\n",
    "    \n",
    "if __name__ == '__main__':\n",
    "    lis = [5,6,9,9,10]\n",
    "    print(binary_search2(lis,8))"
   ]
  },
  {
   "cell_type": "markdown",
   "metadata": {
    "ExecuteTime": {
     "end_time": "2020-06-16T03:10:15.396527Z",
     "start_time": "2020-06-16T03:10:15.393532Z"
    }
   },
   "source": [
    "## 排序"
   ]
  },
  {
   "cell_type": "markdown",
   "metadata": {},
   "source": [
    "#**归并排序**\n",
    "    #分治算法\n",
    "        #分：一直二分(左、右)到一个元素\n",
    "        #治：从底往上逐层进行排序\n",
    "#**快速排序**\n",
    "    #\n",
    "#插入排序\n",
    "    #分成已排序和未排序，遍历未排序的，取出一个插入到已排序的里面。\n",
    "#希尔排序\n",
    "    #分间隔进行插入排序\n",
    "#选择排序\n",
    "    #每次从未排序的找到最小的放到已排序的后面\n",
    "#冒泡排序\n",
    "    #从头开始走每次计较相邻的元素，找出最大的，走n-1遍就都排好序了"
   ]
  },
  {
   "cell_type": "markdown",
   "metadata": {
    "ExecuteTime": {
     "end_time": "2020-06-16T11:47:33.326299Z",
     "start_time": "2020-06-16T11:47:33.275929Z"
    }
   },
   "source": [
    "![排序](./picture/排序.jpg)"
   ]
  },
  {
   "cell_type": "markdown",
   "metadata": {
    "ExecuteTime": {
     "end_time": "2020-06-21T02:26:50.318208Z",
     "start_time": "2020-06-21T02:26:50.312226Z"
    },
    "pycharm": {
     "name": "#%% md\n"
    }
   },
   "source": [
    "#### 归并算法--nlogn"
   ]
  },
  {
   "cell_type": "code",
   "execution_count": null,
   "outputs": [],
   "source": [
    "'''\n",
    "原理：\n",
    "排序一个数组，我们先把数组从中间分成左右两部分，然后对左右\n",
    "再将排好序的两部分合并在一起，这样整个数组就都有序了。\n",
    "特点：\n",
    "选基准、分、治、非原地排序o(n)\n",
    "最优时间复杂度：O(nlogn)\n",
    "最坏时间复杂度：O(nlogn)\n",
    "稳定性：稳定\n",
    "'''\n",
    "def mersort(li):\n",
    "    n = len(li)\n",
    "    if n < 2:\n",
    "        return li\n",
    "    mid = n//2\n",
    "    # 分\n",
    "    left = mersort(li[:mid])\n",
    "    right = mersort(li[mid:])\n",
    "    # 治\n",
    "    re = []\n",
    "    while left and right:\n",
    "        if left[0]<right[0]:\n",
    "            re.append(left.pop(0))\n",
    "        else:\n",
    "            re.append(right.pop(0))\n",
    "    re += (left+right)\n",
    "    return re\n",
    "mersort([1,3,4,-5,10,-5])        "
   ],
   "metadata": {
    "collapsed": false,
    "pycharm": {
     "name": "#%%\n"
    }
   }
  },
  {
   "cell_type": "markdown",
   "source": [
    "链表归并"
   ],
   "metadata": {
    "collapsed": false
   }
  },
  {
   "cell_type": "code",
   "execution_count": null,
   "outputs": [],
   "source": [
    "# Definition for singly-linked list.\n",
    "# class ListNode:\n",
    "#     def __init__(self, val=0, next=None):\n",
    "#         self.val = val\n",
    "#         self.next = next\n",
    "class Solution:\n",
    "    def sortList(self, head: ListNode) -> ListNode:\n",
    "        # base\n",
    "        if not head or not head.next: \n",
    "            return head \n",
    "        # 找中点\n",
    "        slow, fast = head, head.next\n",
    "        while fast and fast.next:\n",
    "            fast, slow = fast.next.next, slow.next\n",
    "        mid, slow.next = slow.next, None\n",
    "        # 分\n",
    "        left, right = self.sortList(head), self.sortList(mid) \n",
    "        # 治\n",
    "        p = res = ListNode(0)\n",
    "        while left and right:\n",
    "            if left.val < right.val: \n",
    "                p.next, left = left, left.next\n",
    "            else: \n",
    "                p.next, right = right, right.next\n",
    "            p = p.next\n",
    "        # 加上长出来的部分\n",
    "        p.next = left if left else right \n",
    "        return res.next"
   ],
   "metadata": {
    "collapsed": false,
    "pycharm": {
     "name": "#%%\n"
    }
   }
  },
  {
   "cell_type": "code",
   "execution_count": 1,
   "metadata": {
    "ExecuteTime": {
     "end_time": "2020-11-21T10:09:47.088350Z",
     "start_time": "2020-11-21T10:09:47.076378Z"
    }
   },
   "outputs": [
    {
     "data": {
      "text/plain": [
       "[-5, -5, 1, 3, 4, 10]"
      ]
     },
     "execution_count": 1,
     "metadata": {},
     "output_type": "execute_result"
    }
   ],
   "source": [
    "#### 快速排序"
   ]
  },
  {
   "cell_type": "markdown",
   "metadata": {},
   "source": [
    "链表归并"
   ]
  },
  {
   "cell_type": "code",
   "execution_count": null,
   "metadata": {},
   "outputs": [],
   "source": [
    "# Definition for singly-linked list.\n",
    "# class ListNode:\n",
    "#     def __init__(self, val=0, next=None):\n",
    "#         self.val = val\n",
    "#         self.next = next\n",
    "class Solution:\n",
    "    def sortList(self, head: ListNode) -> ListNode:\n",
    "        # base\n",
    "        if not head or not head.next: \n",
    "            return head \n",
    "        # 找中点\n",
    "        slow, fast = head, head.next\n",
    "        while fast and fast.next:\n",
    "            fast, slow = fast.next.next, slow.next\n",
    "        mid, slow.next = slow.next, None\n",
    "        # 分\n",
    "        left, right = self.sortList(head), self.sortList(mid) \n",
    "        # 治\n",
    "        p = res = ListNode(0)\n",
    "        while left and right:\n",
    "            if left.val < right.val: \n",
    "                p.next, left = left, left.next\n",
    "            else: \n",
    "                p.next, right = right, right.next\n",
    "            p = p.next\n",
    "        # 加上长出来的部分\n",
    "        p.next = left if left else right \n",
    "        return res.next"
   ]
  },
  {
   "cell_type": "markdown",
   "metadata": {},
   "source": [
    "#### 快速排序"
   ]
  },
  {
   "cell_type": "code",
   "execution_count": 39,
   "metadata": {
    "ExecuteTime": {
     "end_time": "2020-06-21T02:26:50.326159Z",
     "start_time": "2020-06-21T02:26:50.319178Z"
    }
   },
   "outputs": [
    {
     "name": "stdout",
     "output_type": "stream",
     "text": [
      "li:\n",
      " [5, 8, 4, 6, 8, 1, -5, 3]\n",
      "quick_sort_li:\n",
      " [-5, 1, 3, 4, 5, 6, 8, 8]\n"
     ]
    }
   ],
   "source": [
    "'''\n",
    "原理：\n",
    "    通过一趟排序将未排序的序列排序成独立的两个部分，其中左边部分序列都比划分值小，右边部分的序列比划分值大，\n",
    "    将划分值的放到中间，然后再对这两个序列按照同样的方法进行排序，从而达到整个序列都有序的目的。\n",
    "特点：\n",
    "    选基准、分治、递归、原地排序\n",
    "    最优时间复杂度：O(nlogn)\n",
    "    最坏时间复杂度：O(n2)\n",
    "    稳定性：不稳定\n",
    "'''\n",
    "def quick_sort(li,first,end):\n",
    "    # 递归base\n",
    "    if end - first <= 0:\n",
    "        return\n",
    "    p_value = li[first]\n",
    "    l = first\n",
    "    r = end\n",
    "    while l < r:\n",
    "        while l < r and li[r] >= p_value:\n",
    "            '''从右往左找到第一个比p_value大的，交换位置'''\n",
    "            r -= 1\n",
    "        li[l] = li[r]\n",
    "        while l < r and li[l] < p_value:\n",
    "            '''从左往右找到第一个比p_value小的，交换位置'''\n",
    "            l += 1\n",
    "        li[r] = li[l]\n",
    "    #上边循环退出时 l = r\n",
    "    li[l] = p_value\n",
    "    #对左边进行快排\n",
    "    quick_sort(li,first,l-1)\n",
    "    #对右边进行快排\n",
    "    quick_sort(li,l+1,end)\n",
    "    \n",
    "if __name__ == '__main__':\n",
    "    li = [5,8,4,6,8,1,-5,3]\n",
    "    print('li:\\n',li)\n",
    "    quick_sort(li,0,len(li)-1)\n",
    "    print('quick_sort_li:\\n',li)"
   ]
  },
  {
   "cell_type": "code",
   "execution_count": 1,
   "metadata": {
    "ExecuteTime": {
     "end_time": "2020-09-02T11:12:33.414249Z",
     "start_time": "2020-09-02T11:12:33.404240Z"
    }
   },
   "outputs": [
    {
     "data": {
      "text/plain": [
       "[-5, 1, 3, 4, 5, 6, 8, 8]"
      ]
     },
     "execution_count": 1,
     "metadata": {},
     "output_type": "execute_result"
    }
   ],
   "source": [
    "def quicksort(l):\n",
    "    n = len(l)\n",
    "    if n <= 1:\n",
    "        return l\n",
    "    p = l[0]\n",
    "    left = quicksort([i for i in l[1:] if i <= p])\n",
    "    right = quicksort([i for i in l[1:] if i > p])\n",
    "    return left + [p] + right\n",
    "li = [5,8,4,6,8,1,-5,3]\n",
    "quicksort(li)"
   ]
  },
  {
   "cell_type": "markdown",
   "metadata": {},
   "source": [
    "#### 插入排序"
   ]
  },
  {
   "cell_type": "code",
   "execution_count": 40,
   "metadata": {
    "ExecuteTime": {
     "end_time": "2020-06-21T02:26:50.333140Z",
     "start_time": "2020-06-21T02:26:50.327156Z"
    }
   },
   "outputs": [
    {
     "name": "stdout",
     "output_type": "stream",
     "text": [
      "l:\n",
      " [5, 8, 4, 6, 8, 1, -5, 3]\n",
      "sort_l:\n",
      " [-5, 1, 3, 4, 5, 6, 8, 8]\n"
     ]
    }
   ],
   "source": [
    "'''\n",
    "原理：\n",
    "    分成已排序和未排序两部分，依次拿出一个未排序的元素，在已排序中从后向前和拿出的元素比较大小，直到找到相应位置并插入。--**类似于打牌**\n",
    "    插入排序和冒泡排序一样，也有一种优化算法，叫做拆半插入。\n",
    "特点：\n",
    "    打牌、原地排序\n",
    "    最优时间复杂度：O(n)\n",
    "    最坏时间复杂度：O(n^2)\n",
    "    稳定性：稳定\n",
    "'''\n",
    "def insert_sort(l):\n",
    "    n = len(l)\n",
    "    if n < 2:\n",
    "        return l\n",
    "    for i in range(1,n): #将未排序的依次从头往后取出一个\n",
    "        for j in range(i,0,-1): #将取出的未排序一个元素与排好序的从后面往前面依次比较\n",
    "            if l[j] < l[j-1]:\n",
    "                l[j], l[j-1] = l[j-1], l[j]\n",
    "\n",
    "if __name__ == '__main__':\n",
    "    l = [5,8,4,6,8,1,-5,3]\n",
    "    print('l:\\n',l)\n",
    "    insert_sort(l)\n",
    "    print('sort_l:\\n',l)  "
   ]
  },
  {
   "cell_type": "markdown",
   "metadata": {},
   "source": [
    "#### 希尔排序"
   ]
  },
  {
   "cell_type": "code",
   "execution_count": 41,
   "metadata": {
    "ExecuteTime": {
     "end_time": "2020-06-21T02:26:50.342116Z",
     "start_time": "2020-06-21T02:26:50.334137Z"
    }
   },
   "outputs": [
    {
     "name": "stdout",
     "output_type": "stream",
     "text": [
      "li:\n",
      " [5, 8, 4, 6, 8, 1, -5, 3]\n",
      "buttle_sort_li:\n",
      " [-5, 1, 3, 4, 5, 6, 8, 8]\n"
     ]
    }
   ],
   "source": [
    "'''\n",
    "原理：\n",
    "    分间隔进行插入排序\n",
    "特点：\n",
    "    遍历、原地排序、对插入排序的改进\n",
    "    最优时间复杂度：O(n**1.3)  #跑完第一次就排好序了\n",
    "    最坏时间复杂度：O(n2)\n",
    "    稳定性：不稳定\n",
    "'''\n",
    "def shell_sort(li):\n",
    "    n = len(li)\n",
    "    gap = n//2\n",
    "    while gap > 0:\n",
    "        for j in range(gap,n):\n",
    "            '''j表示的是未排序的部分，对应单独的子序列里的index为1的位置'''\n",
    "            for i in range(j,0,-gap):\n",
    "                '''i表示在单独的子列表已排序的部分从后向前遍历，比较大小，直到找到相应位置并插入'''\n",
    "                if li[i] < li[i-gap]:\n",
    "                    li[i], li[i-gap] = li[i-gap], li[i]\n",
    "        gap//=2\n",
    "if __name__ == '__main__':\n",
    "    li = [5,8,4,6,8,1,-5,3]\n",
    "    print('li:\\n',li)\n",
    "    shell_sort(li)\n",
    "    print('buttle_sort_li:\\n',li)    "
   ]
  },
  {
   "cell_type": "markdown",
   "metadata": {},
   "source": [
    "#### 选择排序"
   ]
  },
  {
   "cell_type": "code",
   "execution_count": 42,
   "metadata": {
    "ExecuteTime": {
     "end_time": "2020-06-21T02:26:50.349124Z",
     "start_time": "2020-06-21T02:26:50.343114Z"
    }
   },
   "outputs": [
    {
     "name": "stdout",
     "output_type": "stream",
     "text": [
      "li:\n",
      " [5, 8, 4, 6, 8, 1, -5, 3]\n",
      "selection_sort_li:\n",
      " [-5, 1, 3, 4, 5, 6, 8, 8]\n"
     ]
    }
   ],
   "source": [
    "'''\n",
    "原理：\n",
    "    首先在未排序序列中找到最小（大）元素，存放到排序序列的起始位置，\n",
    "    然后，再从剩余未排序元素中继续寻找最小（大）元素，然后放到已排序序列的末尾\n",
    "特点：\n",
    "    遍历、原地排序\n",
    "    最优时间复杂度：O(n^2)\n",
    "    最坏时间复杂度：O(n^2)\n",
    "    稳定性：不稳定\n",
    "'''\n",
    "def selection_sort(li):\n",
    "    n = len(li)\n",
    "    '''\n",
    "    找第一个最小值并插入到最开头的方法，外面加个循环就可以找到全部最小值了\n",
    "    for i in range(1,n):\n",
    "        if l[i] < li[0]:\n",
    "            li[i], li[0] = li[0], li[i]\n",
    "    '''\n",
    "    for j in range(0,n):\n",
    "        '''控制循环次数，j表示最小值插入的index，j也表示此时未排好序的部分的开始index'''\n",
    "        for m in range(j,n):\n",
    "            '''从未排序的部分找最小值，m表示从左往右比较'''\n",
    "            if li[m] < li[j]:\n",
    "                '''将小的放到index=j的位置，遍历完就是最小值了'''\n",
    "                li[m], li[j] = li[j], li[m]\n",
    "\n",
    "if __name__ == '__main__':\n",
    "    li = [5,8,4,6,8,1,-5,3]\n",
    "    print('li:\\n',li)\n",
    "    selection_sort(li)\n",
    "    print('selection_sort_li:\\n',li)    "
   ]
  },
  {
   "cell_type": "code",
   "execution_count": 43,
   "metadata": {
    "ExecuteTime": {
     "end_time": "2020-06-21T02:26:50.357077Z",
     "start_time": "2020-06-21T02:26:50.350094Z"
    }
   },
   "outputs": [
    {
     "name": "stdout",
     "output_type": "stream",
     "text": [
      "[17, 20, 26, 31, 44, 54, 55, 77, 93]\n"
     ]
    }
   ],
   "source": [
    "def selectionSort(alist):\n",
    "\tfor i in range(0, len(alist), 1):\n",
    "\t\tmin = alist[i]\n",
    "\t\tindex = i\n",
    "\t\tfor j in range(i, len(alist), 1):\n",
    "\t\t\tif ( alist[j] < min):\n",
    "\t\t\t\tmin = alist[j]\n",
    "\t\t\t\tindex = j\n",
    "\t\ttmp = alist[i]\n",
    "\t\talist[i] = min\n",
    "\t\talist[index] = tmp\n",
    "        \n",
    "alist = [54,26,93,17,77,31,44,55,20]\n",
    "selectionSort(alist)\n",
    "print(alist)"
   ]
  },
  {
   "cell_type": "markdown",
   "metadata": {},
   "source": [
    "#### 冒泡排序"
   ]
  },
  {
   "cell_type": "code",
   "execution_count": 44,
   "metadata": {
    "ExecuteTime": {
     "end_time": "2020-06-21T02:26:50.364058Z",
     "start_time": "2020-06-21T02:26:50.358074Z"
    }
   },
   "outputs": [
    {
     "name": "stdout",
     "output_type": "stream",
     "text": [
      "li:\n",
      " [5, 8, 4, 6, 8, 1, -5, 3]\n",
      "buttle_sort_li:\n",
      " [-5, 1, 3, 4, 5, 6, 8, 8]\n"
     ]
    }
   ],
   "source": [
    "'''\n",
    "原理：\n",
    "    分成排好序和未排好序两部分，每次在未排好序的部分依次前后比较，将未排好序中最大的移动到最后，循环排完.\n",
    "特点：\n",
    "    遍历、原地排序\n",
    "    最优时间复杂度：O(n)  #跑完第一次就排好序了\n",
    "    最坏时间复杂度：O(n2)\n",
    "    稳定性：稳定'''\n",
    "def buttle_sort(li):\n",
    "    n = len(li)\n",
    "    for i in range(n-1):\n",
    "        '''控制循环次数'''\n",
    "        for j in range(n-i-1):\n",
    "            '''每次在未排好序的前后比较，把大的往后移动'''\n",
    "            if li[j] > li[j+1]:\n",
    "                li[j], li[j+1] = li[j+1], li[j]\n",
    "\n",
    "if __name__ == '__main__':\n",
    "    li = [5,8,4,6,8,1,-5,3]\n",
    "    print('li:\\n',li)\n",
    "    buttle_sort(li)\n",
    "    print('buttle_sort_li:\\n',li)"
   ]
  },
  {
   "cell_type": "code",
   "execution_count": null,
   "metadata": {},
   "outputs": [],
   "source": []
  }
 ],
 "metadata": {
  "kernelspec": {
   "display_name": "Python 3",
   "language": "python",
   "name": "python3"
  },
  "language_info": {
   "codemirror_mode": {
    "name": "ipython",
    "version": 3
   },
   "file_extension": ".py",
   "mimetype": "text/x-python",
   "name": "python",
   "nbconvert_exporter": "python",
   "pygments_lexer": "ipython3",
   "version": "3.6.10"
  }
 },
 "nbformat": 4,
 "nbformat_minor": 4
}