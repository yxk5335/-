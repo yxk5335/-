{
 "cells": [
  {
   "cell_type": "code",
   "execution_count": 9,
   "metadata": {
    "ExecuteTime": {
     "end_time": "2021-07-28T14:51:20.647470Z",
     "start_time": "2021-07-28T14:51:20.642448Z"
    }
   },
   "outputs": [
    {
     "name": "stdout",
     "output_type": "stream",
     "text": [
      "[4, 5, 6]\n"
     ]
    },
    {
     "data": {
      "text/plain": [
       "[4, 5, 6]"
      ]
     },
     "execution_count": 9,
     "metadata": {},
     "output_type": "execute_result"
    }
   ],
   "source": [
    "m = [[1,2,3],[4,5,6],[7,8,9]]\n",
    "print(m[1][:])\n",
    "m[:][1]"
   ]
  },
  {
   "cell_type": "code",
   "execution_count": 28,
   "metadata": {
    "ExecuteTime": {
     "end_time": "2021-07-26T15:01:42.257956Z",
     "start_time": "2021-07-26T15:01:42.250975Z"
    }
   },
   "outputs": [
    {
     "name": "stdout",
     "output_type": "stream",
     "text": [
      "0 4 2\n",
      "0 2 1\n",
      "0 1 0\n",
      "1 1 0\n"
     ]
    },
    {
     "data": {
      "text/plain": [
       "1"
      ]
     },
     "execution_count": 28,
     "metadata": {},
     "output_type": "execute_result"
    }
   ],
   "source": [
    "class Solution:\n",
    "    def searchInsert(self, nums, target) :\n",
    "        l,r = 0, len(nums)\n",
    "        while l<r:\n",
    "            mid = (r+l)//2\n",
    "            print(l,r,mid)\n",
    "            if nums[mid]==target:\n",
    "                return mid\n",
    "            if nums[mid] < target:\n",
    "                l = mid+1\n",
    "            else:\n",
    "                r = mid\n",
    "        print(l,r,mid)\n",
    "        return l\n",
    "Solution().searchInsert([1,3,5,6],2)"
   ]
  },
  {
   "cell_type": "code",
   "execution_count": 9,
   "metadata": {
    "ExecuteTime": {
     "end_time": "2021-07-26T14:31:56.285171Z",
     "start_time": "2021-07-26T14:31:56.281181Z"
    }
   },
   "outputs": [
    {
     "name": "stdout",
     "output_type": "stream",
     "text": [
      "<itertools.accumulate object at 0x0000019C530C6B88>\n",
      "3\n",
      "8\n",
      "15\n",
      "21\n",
      "22\n"
     ]
    }
   ],
   "source": [
    "from itertools import accumulate\n",
    "nums = [3,5,7,6,1]\n",
    "x = accumulate(nums)\n",
    "print(x)\n",
    "for i in x:\n",
    "    print(i)"
   ]
  },
  {
   "cell_type": "code",
   "execution_count": 6,
   "metadata": {
    "ExecuteTime": {
     "end_time": "2021-07-26T14:30:17.158893Z",
     "start_time": "2021-07-26T14:30:17.151911Z"
    }
   },
   "outputs": [
    {
     "name": "stdout",
     "output_type": "stream",
     "text": [
      "[0, 3, 8, 15, 21, 22]\n"
     ]
    }
   ],
   "source": [
    "nums = [3,5,7,6,1]\n",
    "N = len(nums)\n",
    "preSum = [0 for i in range(N + 1)]\n",
    "for i in range(N):\n",
    "    preSum[i + 1] = preSum[i] + nums[i]\n",
    "print(preSum)\n"
   ]
  },
  {
   "cell_type": "markdown",
   "metadata": {},
   "source": [
    "649. Dota2 参议院"
   ]
  },
  {
   "cell_type": "code",
   "execution_count": 34,
   "metadata": {
    "ExecuteTime": {
     "end_time": "2021-07-25T03:01:03.909227Z",
     "start_time": "2021-07-25T03:01:03.900685Z"
    }
   },
   "outputs": [
    {
     "name": "stdout",
     "output_type": "stream",
     "text": [
      "2 [1, 3]\n",
      "1 [2]\n",
      "[1, 2]\n",
      "[1, 3]\n",
      "[4, 2]\n"
     ]
    },
    {
     "data": {
      "text/plain": [
       "[1, 2, 3, 4]"
      ]
     },
     "execution_count": 34,
     "metadata": {},
     "output_type": "execute_result"
    }
   ],
   "source": [
    "from collections import defaultdict\n",
    "class Solution:\n",
    "    def restoreArray(self, adjacentPairs):\n",
    "        dic = defaultdict(list)\n",
    "\n",
    "        for i,j in adjacentPairs:\n",
    "            dic[i].append(j)\n",
    "            dic[j].append(i)\n",
    "        \n",
    "        for x,y in dic.items():\n",
    "            print(x,y)\n",
    "            if len(y)==1:\n",
    "                r = [x,y[0]]\n",
    "                break\n",
    "        print(r)\n",
    "        while len(r)<len(adjacentPairs)+1:\n",
    "            print(dic[r[-1]])\n",
    "            for xx in dic[r[-1]]:\n",
    "                if xx != r[-2]:\n",
    "                    r.append(xx)\n",
    "                    break\n",
    "        return r\n",
    "Solution().restoreArray([[2,1],[3,4],[3,2]])\n"
   ]
  },
  {
   "cell_type": "code",
   "execution_count": 29,
   "metadata": {
    "ExecuteTime": {
     "end_time": "2021-07-25T02:57:12.392272Z",
     "start_time": "2021-07-25T02:57:12.382304Z"
    }
   },
   "outputs": [
    {
     "name": "stdout",
     "output_type": "stream",
     "text": [
      "dict_items([])\n",
      "dict_items([(2, [1]), (1, [2])])\n",
      "dict_items([(2, [1]), (1, [2]), (3, [4]), (4, [3])])\n",
      "2 [1, 3]\n",
      "1 [2]\n",
      "[1, 3] [1, 2]\n",
      "[4, 2] [1, 2, 3]\n"
     ]
    },
    {
     "data": {
      "text/plain": [
       "[1, 2, 3, 4]"
      ]
     },
     "execution_count": 29,
     "metadata": {},
     "output_type": "execute_result"
    }
   ],
   "source": [
    "from collections import defaultdict\n",
    "class Solution:\n",
    "    def restoreArray(self, adjacentPairs):\n",
    "        #---------- 条件非常友好，n个“不同”的元素 --------------#\n",
    "        n = len(adjacentPairs) + 1\n",
    "        adjvex = defaultdict(list)\n",
    "        for x, y in adjacentPairs:\n",
    "            print(adjvex.items())\n",
    "            adjvex[x].append(y)\n",
    "            adjvex[y].append(x)\n",
    "        start = -1      #起点\n",
    "        for x, ys in adjvex.items():\n",
    "            print(x,ys)\n",
    "            if len(ys) == 1:    #起点和终点，必然只有一个后继\n",
    "                start = x\n",
    "                break\n",
    "        res = [start, adjvex[start][0]]\n",
    "\n",
    "        for _ in range(2, n):\n",
    "            print(adjvex[res[-1]],res)\n",
    "            for y in adjvex[res[-1]]:\n",
    "                if y != res[-2]:\n",
    "                    res.append(y)\n",
    "                    break\n",
    "        return res\n",
    "Solution().restoreArray([[2,1],[3,4],[3,2]])"
   ]
  },
  {
   "cell_type": "code",
   "execution_count": 23,
   "metadata": {
    "ExecuteTime": {
     "end_time": "2021-07-25T02:54:21.150607Z",
     "start_time": "2021-07-25T02:54:21.144597Z"
    }
   },
   "outputs": [
    {
     "data": {
      "text/plain": [
       "['1', '2', '3', '4', '1', [1, 2], 1, 2, 1, 2]"
      ]
     },
     "execution_count": 23,
     "metadata": {},
     "output_type": "execute_result"
    }
   ],
   "source": [
    "r = ['1','2','3','4','1']\n",
    "r.count('1')\n",
    "r.append([1,2])\n",
    "r += [1,2]\n",
    "r.extend([1,2])\n",
    "r"
   ]
  },
  {
   "cell_type": "code",
   "execution_count": 3,
   "metadata": {
    "ExecuteTime": {
     "end_time": "2021-07-25T01:59:05.960256Z",
     "start_time": "2021-07-25T01:59:05.951245Z"
    }
   },
   "outputs": [
    {
     "data": {
      "text/plain": [
       "False"
      ]
     },
     "execution_count": 3,
     "metadata": {},
     "output_type": "execute_result"
    }
   ],
   "source": [
    "[1,2]==[2,1]"
   ]
  },
  {
   "cell_type": "code",
   "execution_count": 25,
   "metadata": {
    "ExecuteTime": {
     "end_time": "2021-07-24T02:47:53.141843Z",
     "start_time": "2021-07-24T02:47:53.131456Z"
    }
   },
   "outputs": [
    {
     "name": "stdout",
     "output_type": "stream",
     "text": [
      "1 2 re= [0, 1, 0, -1, 0, 0, 0, 0, 0, 0, 0, 0, 0, 0, 0, 0, 0, 0, 0, 0, 0, 0, 0, 0, 0, 0, 0, 0, 0, 0, 0, 0, 0, 0, 0, 0, 0, 0, 0, 0, 0, 0, 0, 0, 0, 0, 0, 0, 0, 0, 0, 0]\n",
      "3 4 re= [0, 1, 0, 0, 0, -1, 0, 0, 0, 0, 0, 0, 0, 0, 0, 0, 0, 0, 0, 0, 0, 0, 0, 0, 0, 0, 0, 0, 0, 0, 0, 0, 0, 0, 0, 0, 0, 0, 0, 0, 0, 0, 0, 0, 0, 0, 0, 0, 0, 0, 0, 0]\n",
      "5 6 re= [0, 1, 0, 0, 0, 0, 0, -1, 0, 0, 0, 0, 0, 0, 0, 0, 0, 0, 0, 0, 0, 0, 0, 0, 0, 0, 0, 0, 0, 0, 0, 0, 0, 0, 0, 0, 0, 0, 0, 0, 0, 0, 0, 0, 0, 0, 0, 0, 0, 0, 0, 0]\n",
      "1\n",
      "2\n",
      "3\n",
      "4\n",
      "5\n",
      "6\n",
      "7\n",
      "8\n",
      "9\n",
      "10\n",
      "11\n",
      "12\n",
      "13\n",
      "14\n",
      "15\n",
      "16\n",
      "17\n",
      "18\n",
      "19\n",
      "20\n",
      "21\n",
      "22\n",
      "23\n",
      "24\n",
      "25\n",
      "26\n",
      "27\n",
      "28\n",
      "29\n",
      "30\n",
      "31\n",
      "32\n",
      "33\n",
      "34\n",
      "35\n",
      "36\n",
      "37\n",
      "38\n",
      "39\n",
      "40\n",
      "41\n",
      "42\n",
      "43\n",
      "44\n",
      "45\n",
      "46\n",
      "47\n",
      "48\n",
      "49\n",
      "50\n",
      "51\n"
     ]
    },
    {
     "data": {
      "text/plain": [
       "True"
      ]
     },
     "execution_count": 25,
     "metadata": {},
     "output_type": "execute_result"
    }
   ],
   "source": [
    "class Solution:\n",
    "    def isCovered(self, ranges, left, right):\n",
    "        re = [0 for i in range(52)]\n",
    "        sumq = [0 for i in range(52)]\n",
    "        for l,r in ranges:\n",
    "            re[l] += 1\n",
    "            re[r+1] -= 1\n",
    "            print(l,r,'re=',re)\n",
    "#         sumq[0] = re[0]\n",
    "        for j in range(1,52):\n",
    "            print(j)\n",
    "            sumq[j] = sumq[j-1] + re[j]\n",
    "#             print(x,'sumq=',sumq)\n",
    "        return all(sumq[left:right+1])\n",
    "Solution().isCovered([[1,2],[3,4],[5,6]],2,5)"
   ]
  },
  {
   "cell_type": "code",
   "execution_count": 2,
   "metadata": {
    "ExecuteTime": {
     "end_time": "2021-07-24T02:16:11.715753Z",
     "start_time": "2021-07-24T02:16:11.665921Z"
    }
   },
   "outputs": [
    {
     "data": {
      "text/plain": [
       "False"
      ]
     },
     "execution_count": 2,
     "metadata": {},
     "output_type": "execute_result"
    }
   ],
   "source": [
    "s = (8,9,11,10)\n",
    "all(i in s for i in range(10))"
   ]
  },
  {
   "cell_type": "code",
   "execution_count": 18,
   "metadata": {
    "ExecuteTime": {
     "end_time": "2020-12-11T07:11:34.870237Z",
     "start_time": "2020-12-11T07:11:34.863257Z"
    }
   },
   "outputs": [
    {
     "name": "stdout",
     "output_type": "stream",
     "text": [
      "[0, 3] [1, 2]\n",
      "[3, 4] [2]\n",
      "[4] [6]\n",
      "[8] []\n"
     ]
    },
    {
     "data": {
      "text/plain": [
       "'Radiant'"
      ]
     },
     "execution_count": 18,
     "metadata": {},
     "output_type": "execute_result"
    }
   ],
   "source": [
    "# 最小堆的用法\n",
    "import heapq\n",
    "class Solution:\n",
    "    def predictPartyVictory(self, senate):\n",
    "        hd = [i for i, s in enumerate(senate) if s == \"D\"]\n",
    "        hr = [i for i, s in enumerate(senate) if s == \"R\"]\n",
    "        while hr and hd:\n",
    "            print(hr,hd)\n",
    "            if hr[0] < hd[0]:\n",
    "                heapq.heappop(hd)\n",
    "                heapq.heappush(hr, heapq.heappop(hr) + len(senate))\n",
    "            else:\n",
    "                heapq.heappop(hr)\n",
    "                heapq.heappush(hd, heapq.heappop(hd) + len(senate))\n",
    "        print(hr,hd)\n",
    "        return \"Dire\" if not hr else \"Radiant\"\n",
    "Solution().predictPartyVictory('RDDR')"
   ]
  },
  {
   "cell_type": "code",
   "execution_count": 14,
   "metadata": {
    "ExecuteTime": {
     "end_time": "2020-12-11T07:07:42.877912Z",
     "start_time": "2020-12-11T07:07:42.868935Z"
    }
   },
   "outputs": [
    {
     "name": "stdout",
     "output_type": "stream",
     "text": [
      "deque([0, 3]) deque([1, 2])\n",
      "deque([3, 4]) deque([2])\n",
      "deque([4]) deque([6])\n",
      "deque([8]) deque([])\n"
     ]
    },
    {
     "data": {
      "text/plain": [
       "'Radiant'"
      ]
     },
     "execution_count": 14,
     "metadata": {},
     "output_type": "execute_result"
    }
   ],
   "source": [
    "# 双端队列的用法!collections.deque\n",
    "import collections\n",
    "class Solution:\n",
    "    def predictPartyVictory(self, senate):\n",
    "        qd = collections.deque([i for i, s in enumerate(senate) if s == \"D\"])\n",
    "        qr = collections.deque([i for i, s in enumerate(senate) if s == \"R\"])\n",
    "\n",
    "        while qr and qd:\n",
    "            print(qr,qd)\n",
    "            if qr[0] < qd[0]:\n",
    "                qd.popleft()\n",
    "                qr.append(qr.popleft() + len(senate))\n",
    "            else:\n",
    "                qr.popleft()\n",
    "                qd.append(qd.popleft() + len(senate))\n",
    "        print(qr,qd)\n",
    "        return \"Dire\" if not qr else \"Radiant\"\n",
    "Solution().predictPartyVictory('RDDR')"
   ]
  },
  {
   "cell_type": "code",
   "execution_count": null,
   "metadata": {},
   "outputs": [],
   "source": []
  },
  {
   "cell_type": "code",
   "execution_count": 11,
   "metadata": {
    "ExecuteTime": {
     "end_time": "2020-12-10T14:42:00.719637Z",
     "start_time": "2020-12-10T14:42:00.715647Z"
    }
   },
   "outputs": [],
   "source": [
    "class TreeNode:\n",
    "    def __init__(self, val=0, left=None, right=None):\n",
    "        self.val = val\n",
    "        self.left = left\n",
    "        self.right = right"
   ]
  },
  {
   "cell_type": "code",
   "execution_count": 18,
   "metadata": {
    "ExecuteTime": {
     "end_time": "2020-12-10T14:46:40.432774Z",
     "start_time": "2020-12-10T14:46:40.425820Z"
    }
   },
   "outputs": [
    {
     "data": {
      "text/plain": [
       "[1, 3, 2]"
      ]
     },
     "execution_count": 18,
     "metadata": {},
     "output_type": "execute_result"
    }
   ],
   "source": [
    "class Solution:\n",
    "    def postorderTraversal(self, root):\n",
    "        if not root:\n",
    "            return root\n",
    "        s = [(root, False)]\n",
    "        r = []\n",
    "        while s:\n",
    "            root, v = s.pop()\n",
    "            if v:\n",
    "                r.append(root.val)\n",
    "            else:\n",
    "                s.append((root, True))\n",
    "                if root.right:\n",
    "                    s.append((root.right, False))\n",
    "                if root.left:\n",
    "                    s.append((root.left, False)) \n",
    "        return r\n",
    "Solution().postorderTraversal(root)"
   ]
  },
  {
   "cell_type": "code",
   "execution_count": 12,
   "metadata": {
    "ExecuteTime": {
     "end_time": "2020-12-10T14:42:03.399070Z",
     "start_time": "2020-12-10T14:42:03.396077Z"
    }
   },
   "outputs": [],
   "source": [
    "root = TreeNode(2)\n",
    "root.left = TreeNode(1)\n",
    "root.right = TreeNode(3)"
   ]
  },
  {
   "cell_type": "code",
   "execution_count": 13,
   "metadata": {
    "ExecuteTime": {
     "end_time": "2020-12-10T14:42:04.630135Z",
     "start_time": "2020-12-10T14:42:04.624131Z"
    }
   },
   "outputs": [
    {
     "data": {
      "text/plain": [
       "[2, 1, 3]"
      ]
     },
     "execution_count": 13,
     "metadata": {},
     "output_type": "execute_result"
    }
   ],
   "source": [
    "class Solution:\n",
    "    def preorderTraversal(self, root):\n",
    "        if not root:\n",
    "            return root\n",
    "        re = []\n",
    "        stack = [root]\n",
    "        while stack:\n",
    "            tem = stack.pop()\n",
    "            if tem:\n",
    "                re.append(tem.val)\n",
    "                stack.append(tem.right)\n",
    "                stack.append(tem.left)\n",
    "        return re\n",
    "Solution().preorderTraversal(root)"
   ]
  },
  {
   "cell_type": "code",
   "execution_count": 1,
   "metadata": {
    "ExecuteTime": {
     "end_time": "2020-12-10T14:36:38.099008Z",
     "start_time": "2020-12-10T14:36:38.062829Z"
    }
   },
   "outputs": [
    {
     "data": {
      "text/plain": [
       "[2, 3]"
      ]
     },
     "execution_count": 1,
     "metadata": {},
     "output_type": "execute_result"
    }
   ],
   "source": [
    "class Solution:\n",
    "    def searchRange(self, nums, target):\n",
    "        r0 = [-1,-1]\n",
    "        if not nums:\n",
    "            return r0\n",
    "        if nums[-1]<target:\n",
    "            return r0\n",
    "        s = -1\n",
    "        e = -1\n",
    "        for i in range(len(nums)):\n",
    "            if nums[i]==target:\n",
    "                s = i\n",
    "                e = i\n",
    "                while e<len(nums) and nums[e]==target:\n",
    "                        e += 1 \n",
    "                return [s,e-1]\n",
    "        return [s,e]\n",
    "Solution().searchRange([1,2,3,3,4,5],3)"
   ]
  },
  {
   "cell_type": "markdown",
   "metadata": {},
   "source": [
    "for else用法"
   ]
  },
  {
   "cell_type": "code",
   "execution_count": 42,
   "metadata": {
    "ExecuteTime": {
     "end_time": "2020-12-05T12:04:18.970990Z",
     "start_time": "2020-12-05T12:04:18.965666Z"
    }
   },
   "outputs": [
    {
     "data": {
      "text/plain": [
       "'else'"
      ]
     },
     "execution_count": 42,
     "metadata": {},
     "output_type": "execute_result"
    }
   ],
   "source": [
    "def fun(n):\n",
    "    for i in range(n):\n",
    "        print(i)\n",
    "        break\n",
    "    else:\n",
    "        return 'else'\n",
    "    return 'no else'\n",
    "fun(0)\n",
    "    "
   ]
  },
  {
   "cell_type": "markdown",
   "metadata": {},
   "source": [
    "lc 659. 分割数组为连续子序列"
   ]
  },
  {
   "cell_type": "code",
   "execution_count": 15,
   "metadata": {
    "ExecuteTime": {
     "end_time": "2020-12-04T14:17:52.734690Z",
     "start_time": "2020-12-04T14:17:52.727696Z"
    }
   },
   "outputs": [
    {
     "name": "stdout",
     "output_type": "stream",
     "text": [
      "1 []\n",
      "3 [[1]]\n",
      "3 [[3], [1]]\n",
      "4 [[3], [3], [1]]\n",
      "4 [[3, 4], [3], [1]]\n",
      "7 [[3, 4], [3, 4], [1]]\n",
      "8 [[7], [3, 4], [3, 4], [1]]\n",
      "8 [[7, 8], [3, 4], [3, 4], [1]]\n",
      "9 [[8], [7, 8], [3, 4], [3, 4], [1]]\n",
      "10 [[8, 9], [7, 8], [3, 4], [3, 4], [1]]\n",
      "[[8, 9, 10], [7, 8], [3, 4], [3, 4], [1]]\n",
      "[[1], [7, 8], [3, 4], [3, 4], [8, 9, 10]]\n"
     ]
    },
    {
     "data": {
      "text/plain": [
       "False"
      ]
     },
     "execution_count": 15,
     "metadata": {},
     "output_type": "execute_result"
    }
   ],
   "source": [
    "class Solution:\n",
    "    def isPossible(self, nums):\n",
    "        if len(nums)<3:\n",
    "            return False\n",
    "        r = []\n",
    "        for i in nums:\n",
    "            print(i,r)\n",
    "            # 这里面隐藏了一个贪心思想，每次遍历的时候都是先判断短的子序列\n",
    "            for j in r:\n",
    "                if i-1==j[-1]:\n",
    "                    j.append(i)\n",
    "                    break\n",
    "            # 这里有一个for else 的用法！！！ 如果没有进入for 则进入else 如果for里面有break 则跳出包括else也会跳出！！！\n",
    "            else:\n",
    "                # 这里是头插入，保证短序列被先遍历到\n",
    "                r.insert(0,[i])\n",
    "        print(r)\n",
    "        r.sort(key =lambda x: len(x))\n",
    "        print(r)\n",
    "        return len(r[0])>=3\n",
    "Solution().isPossible([1,3,3,4,4,7,8,8,9,10])"
   ]
  },
  {
   "cell_type": "code",
   "execution_count": 5,
   "metadata": {
    "ExecuteTime": {
     "end_time": "2020-11-23T12:55:37.761504Z",
     "start_time": "2020-11-23T12:55:37.751529Z"
    }
   },
   "outputs": [
    {
     "name": "stdout",
     "output_type": "stream",
     "text": [
      "0 []\n",
      "1 ['a']\n",
      "2 ['a', 'a']\n",
      "3 ['a', 'a', 'b']\n",
      "4 ['a', 'a', 'b', 'b']\n",
      "4 ['a', 'a', 'bb']\n",
      "2 ['aa']\n",
      "3 ['aa', 'b']\n",
      "4 ['aa', 'b', 'b']\n",
      "4 ['aa', 'bb']\n"
     ]
    },
    {
     "data": {
      "text/plain": [
       "[['a', 'a', 'b', 'b'], ['a', 'a', 'bb'], ['aa', 'b', 'b'], ['aa', 'bb']]"
      ]
     },
     "execution_count": 5,
     "metadata": {},
     "output_type": "execute_result"
    }
   ],
   "source": [
    "class Solution:\n",
    "    def partition(self, s):\n",
    "        n = len(s)\n",
    "        dp = [[False] * n for _ in range(n)]\n",
    "\n",
    "        for i in range(n):\n",
    "            for j in range(i + 1):\n",
    "                if (s[i] == s[j]) and (i - j <= 2 or dp[j + 1][i - 1]):\n",
    "                    dp[j][i] = True\n",
    "        #print(dp)\n",
    "        res = []\n",
    "\n",
    "        def helper(i, tmp):\n",
    "            print(i,tmp)\n",
    "            if i == n:\n",
    "                res.append(tmp)\n",
    "            for j in range(i, n):\n",
    "                if dp[i][j]:\n",
    "                    helper(j + 1, tmp + [s[i: j + 1]])\n",
    "\n",
    "        helper(0, [])\n",
    "        return res\n",
    "Solution().partition('aabb')"
   ]
  },
  {
   "cell_type": "markdown",
   "metadata": {},
   "source": [
    "452. 用最少数量的箭引爆气球"
   ]
  },
  {
   "cell_type": "code",
   "execution_count": 1,
   "metadata": {
    "ExecuteTime": {
     "end_time": "2020-11-23T01:46:03.292490Z",
     "start_time": "2020-11-23T01:46:03.282474Z"
    }
   },
   "outputs": [
    {
     "data": {
      "text/plain": [
       "2"
      ]
     },
     "execution_count": 1,
     "metadata": {},
     "output_type": "execute_result"
    }
   ],
   "source": [
    "class Solution:\n",
    "    def findMinArrowShots(self, points):\n",
    "        # ！！贪心思想的题目基本都是end排序\n",
    "        # 按照end排序，如果下一个点的开始大于end 则说明不是一个重叠区间，需要多一根箭，\n",
    "        # 若小于end 则说明是同一个重叠区间，只需要一根箭。\n",
    "        if points == []:\n",
    "            return 0\n",
    "        points.sort(key = lambda x:x[1])\n",
    "        end = points[0][1]\n",
    "        arrow = 1\n",
    "        \n",
    "        for i in points[1:]:\n",
    "            next_start = i[0]\n",
    "            if next_start > end:\n",
    "                arrow += 1\n",
    "                #！！ 记得更新end 但这个end只能是这个重叠区间里最小的end 这也是为什么按end排序的原因\n",
    "                end = i[1]   \n",
    "        return arrow\n",
    "Solution().findMinArrowShots(points = [[10,16],[2,8],[1,6],[7,12]])"
   ]
  },
  {
   "cell_type": "markdown",
   "metadata": {},
   "source": [
    "链表排序"
   ]
  },
  {
   "cell_type": "code",
   "execution_count": null,
   "metadata": {},
   "outputs": [],
   "source": [
    "# Definition for singly-linked list.\n",
    "# class ListNode:\n",
    "#     def __init__(self, val=0, next=None):\n",
    "#         self.val = val\n",
    "#         self.next = next\n",
    "class Solution:\n",
    "    def sortList(self, head: ListNode) -> ListNode:\n",
    "        # base\n",
    "        if not head or not head.next: \n",
    "            return head \n",
    "        # 找中点\n",
    "        slow, fast = head, head.next\n",
    "        while fast and fast.next:\n",
    "            fast, slow = fast.next.next, slow.next\n",
    "        mid, slow.next = slow.next, None\n",
    "        # 递归\n",
    "        left, right = self.sortList(head), self.sortList(mid) \n",
    "        # merge\n",
    "        p = res = ListNode(0)\n",
    "        while left and right:\n",
    "            if left.val < right.val: \n",
    "                p.next, left = left, left.next\n",
    "            else: \n",
    "                p.next, right = right, right.next\n",
    "            p = p.next\n",
    "        # 加上长出来的部分\n",
    "        p.next = left if left else right \n",
    "        return res.next"
   ]
  },
  {
   "cell_type": "code",
   "execution_count": null,
   "metadata": {},
   "outputs": [],
   "source": []
  },
  {
   "cell_type": "markdown",
   "metadata": {},
   "source": [
    "78. 子集(不去重)"
   ]
  },
  {
   "cell_type": "code",
   "execution_count": 17,
   "metadata": {
    "ExecuteTime": {
     "end_time": "2020-11-20T13:05:23.051784Z",
     "start_time": "2020-11-20T13:05:23.042807Z"
    }
   },
   "outputs": [
    {
     "data": {
      "text/plain": [
       "[[], [1], [1, 2], [1, 2, 2], [1, 2], [2], [2, 2], [2]]"
      ]
     },
     "execution_count": 17,
     "metadata": {},
     "output_type": "execute_result"
    }
   ],
   "source": [
    "class Solution:\n",
    "    def subsets(self, nums):\n",
    "        n = len(nums)\n",
    "        def helper(i, tmp):\n",
    "            r.append(tmp)\n",
    "            for j in range(i, n):\n",
    "                helper(j + 1,tmp + [nums[j]] )\n",
    "        r = []\n",
    "        helper(0, [])\n",
    "        return r\n",
    "Solution().subsets([1,2,2])"
   ]
  },
  {
   "cell_type": "markdown",
   "metadata": {},
   "source": [
    "90. 子集(去重)"
   ]
  },
  {
   "cell_type": "code",
   "execution_count": 26,
   "metadata": {
    "ExecuteTime": {
     "end_time": "2020-11-20T13:56:22.028354Z",
     "start_time": "2020-11-20T13:56:22.019378Z"
    }
   },
   "outputs": [
    {
     "data": {
      "text/plain": [
       "[[], [1], [1, 2], [1, 2, 2], [2], [2, 2]]"
      ]
     },
     "execution_count": 26,
     "metadata": {},
     "output_type": "execute_result"
    }
   ],
   "source": [
    "class Solution:\n",
    "    def subsets2(self, nums):\n",
    "        if not nums:\n",
    "            return [[]]\n",
    "        def fun(pos,tem,v):\n",
    "            r.append(tem)\n",
    "            for i in range(pos,len(nums)):\n",
    "                # 层剪枝！！！用v来标记层数，初始是0，在用是1 用过是-1\n",
    "                if i>0 and nums[i]==nums[i-1] and v[i-1]==-1:\n",
    "                    continue\n",
    "                v[i] = 1\n",
    "                fun(i+1,tem+[nums[i]],v)\n",
    "                v[i] = -1\n",
    "        r = []\n",
    "        v = [0]*len(nums)\n",
    "        # 为剪枝做准备\n",
    "        nums.sort()\n",
    "        fun(0,[],v)\n",
    "        return r\n",
    "Solution().subsets2([1,2,2])"
   ]
  },
  {
   "cell_type": "markdown",
   "metadata": {},
   "source": [
    "组合"
   ]
  },
  {
   "cell_type": "code",
   "execution_count": 10,
   "metadata": {
    "ExecuteTime": {
     "end_time": "2020-11-20T09:41:39.664826Z",
     "start_time": "2020-11-20T09:41:39.658806Z"
    }
   },
   "outputs": [
    {
     "data": {
      "text/plain": [
       "[[1, 2], [1, 3], [1, 4], [2, 3], [2, 4], [3, 4]]"
      ]
     },
     "execution_count": 10,
     "metadata": {},
     "output_type": "execute_result"
    }
   ],
   "source": [
    "class Solution:\n",
    "    def combine(self,n, k):\n",
    "        ans = list()\n",
    "        def backtrack(tmp, index):\n",
    "            if len(tmp) == k:\n",
    "                ans.append(tmp[:])\n",
    "                return\n",
    "            for i in range(index, n + 1):\n",
    "                tmp.append(i)\n",
    "                backtrack(tmp, i + 1)\n",
    "                tmp.pop()\n",
    "        backtrack([], 1)\n",
    "        return ans\n",
    "Solution().combine(4,2)"
   ]
  },
  {
   "cell_type": "markdown",
   "metadata": {},
   "source": [
    "49. 字母异位词分组"
   ]
  },
  {
   "cell_type": "code",
   "execution_count": 36,
   "metadata": {
    "ExecuteTime": {
     "end_time": "2020-11-20T14:11:51.112437Z",
     "start_time": "2020-11-20T14:11:51.105426Z"
    }
   },
   "outputs": [
    {
     "name": "stdout",
     "output_type": "stream",
     "text": [
      "{}\n",
      "{('a', 'e', 't'): ['eat']}\n",
      "{('a', 'e', 't'): ['eat', 'tea']}\n",
      "{('a', 'e', 't'): ['eat', 'tea'], ('a', 'n', 't'): ['tan']}\n",
      "{('a', 'e', 't'): ['eat', 'tea', 'ate'], ('a', 'n', 't'): ['tan']}\n",
      "{('a', 'e', 't'): ['eat', 'tea', 'ate'], ('a', 'n', 't'): ['tan', 'nat']}\n",
      "{('a', 'e', 't'): ['eat', 'tea', 'ate'], ('a', 'n', 't'): ['tan', 'nat'], ('a', 'b', 't'): ['bat']}\n"
     ]
    },
    {
     "data": {
      "text/plain": [
       "[['eat', 'tea', 'ate'], ['tan', 'nat'], ['bat']]"
      ]
     },
     "execution_count": 36,
     "metadata": {},
     "output_type": "execute_result"
    }
   ],
   "source": [
    "class Solution:\n",
    "    def groupAnagrams(self, strs):\n",
    "        dic = {}\n",
    "        for item in strs:\n",
    "            print(dic)\n",
    "            key = tuple(sorted(item))\n",
    "            # 1注意这个地方不能用append\n",
    "            # 2字典get的用法，以后尽量用get，没查到不会报错。\n",
    "            dic[key] = dic.get(key, []) + [item] \n",
    "            '''dict.get(key, default=None)\n",
    "            1. key -- 字典中要查找的键。\n",
    "            2. default -- 如果指定键的值不存在时，返回该默认值。'''\n",
    "        print(dic)\n",
    "        return list(dic.values())\n",
    "Solution().groupAnagrams([\"eat\", \"tea\", \"tan\", \"ate\", \"nat\", \"bat\"])"
   ]
  },
  {
   "cell_type": "markdown",
   "metadata": {},
   "source": [
    "134. 加油站"
   ]
  },
  {
   "cell_type": "code",
   "execution_count": 27,
   "metadata": {
    "ExecuteTime": {
     "end_time": "2020-11-20T14:00:53.902013Z",
     "start_time": "2020-11-20T14:00:53.894009Z"
    }
   },
   "outputs": [
    {
     "data": {
      "text/plain": [
       "-1"
      ]
     },
     "execution_count": 27,
     "metadata": {},
     "output_type": "execute_result"
    }
   ],
   "source": [
    "class Solution:\n",
    "    def canCompleteCircuit(self, gas, cost):\n",
    "        n = len(gas)\n",
    "        for i in range(n):\n",
    "            if gas[i] >= cost[i]:\n",
    "                j = i\n",
    "                f = 0\n",
    "                s = 0\n",
    "                while s>=0 and f<n:\n",
    "                    s += (gas[j]-cost[j])\n",
    "                    if j!=n-1:\n",
    "                        j += 1\n",
    "                    else:\n",
    "                        j = 0\n",
    "                    f += 1\n",
    "                if s>=0 and f==n:\n",
    "                    return i\n",
    "        return -1\n",
    "Solution().canCompleteCircuit([2,3,4],[3,4,3])"
   ]
  },
  {
   "cell_type": "markdown",
   "metadata": {},
   "source": [
    "402. 移掉K位数字"
   ]
  },
  {
   "cell_type": "code",
   "execution_count": 58,
   "metadata": {
    "ExecuteTime": {
     "end_time": "2020-11-15T11:10:36.519834Z",
     "start_time": "2020-11-15T11:10:36.513839Z"
    }
   },
   "outputs": [
    {
     "data": {
      "text/plain": [
       "'107'"
      ]
     },
     "execution_count": 58,
     "metadata": {},
     "output_type": "execute_result"
    }
   ],
   "source": [
    "class Solution:\n",
    "    def removeKdigits(self, num: str, k: int) -> str:\n",
    "        numStack = []\n",
    "        # 移除策略：从左往右开始遍历，前后两个数比较，如果后一个比前一个小，就移除前面的，知道当前是数是目前最小的。\n",
    "        for digit in num:\n",
    "            while k and numStack and numStack[-1] > digit:\n",
    "                numStack.pop()\n",
    "                k -= 1\n",
    "            numStack.append(digit)\n",
    "        # 如果 K > 0，删除末尾的 K 个字符\n",
    "        finalStack = numStack[:-k] if k else numStack\n",
    "        # 抹去前导零\n",
    "        return \"\".join(finalStack).lstrip('0') or \"0\"\n",
    "x = Solution().removeKdigits('1107',1)\n",
    "x"
   ]
  },
  {
   "cell_type": "code",
   "execution_count": 60,
   "metadata": {
    "ExecuteTime": {
     "end_time": "2020-11-15T11:19:32.537295Z",
     "start_time": "2020-11-15T11:19:32.530314Z"
    }
   },
   "outputs": [
    {
     "data": {
      "text/plain": [
       "'107'"
      ]
     },
     "execution_count": 60,
     "metadata": {},
     "output_type": "execute_result"
    }
   ],
   "source": [
    "class Solution:\n",
    "    def removeKdigits(self, num: str, k: int) -> str:\n",
    "        n = len(num)\n",
    "        if k>=n:\n",
    "            return '0'\n",
    "        r = ''\n",
    "        m = min(num[:k+1])\n",
    "        c = k\n",
    "        #移除策略：在可移除的范围内，只保留最小的，移除非最小的数\n",
    "        for i in range(len(num)):\n",
    "            # 移除完所有的数返回\n",
    "            if c==0:\n",
    "                return str(int(r+num[len(r)+k:]))\n",
    "            # 只保留最小的数\n",
    "            if num[i]==m:\n",
    "                r += num[i]\n",
    "                # 在可移除的范围内，求最小的数m\n",
    "                if i<n-1:\n",
    "                    m = min(num[i+1:i+1+c+1])\n",
    "            #可移除数 --\n",
    "            else:\n",
    "                c -= 1\n",
    "        #保证输出前导非0 和 满足长度\n",
    "        return str(int(r[:n-k]))\n",
    "Solution().removeKdigits('1107',1)"
   ]
  },
  {
   "cell_type": "code",
   "execution_count": 12,
   "metadata": {
    "ExecuteTime": {
     "end_time": "2020-11-13T14:26:53.970947Z",
     "start_time": "2020-11-13T14:26:53.962968Z"
    }
   },
   "outputs": [
    {
     "name": "stdout",
     "output_type": "stream",
     "text": [
      "0 []\n",
      "0\n",
      "1 ['(']\n",
      "1\n"
     ]
    },
    {
     "data": {
      "text/plain": [
       "False"
      ]
     },
     "execution_count": 12,
     "metadata": {},
     "output_type": "execute_result"
    }
   ],
   "source": [
    "class Solution:\n",
    "    def isValid(self, s):\n",
    "        if not s:\n",
    "            return True\n",
    "        n = len(s)\n",
    "        if n%2!=0:\n",
    "            return False\n",
    "        di = {'(':')','[':']','{':'}'}\n",
    "        r = []\n",
    "        for i in range(n):\n",
    "            print(i,r)\n",
    "            if s[i] in di:\n",
    "                print(i)\n",
    "                r.append(s[i])\n",
    "            else:\n",
    "                if not r and s[i]==di[r.pop()]:\n",
    "                    continue\n",
    "                else:\n",
    "                    print(1)\n",
    "                    return False\n",
    "        return r==[]\n",
    "Solution().isValid('()')"
   ]
  },
  {
   "cell_type": "code",
   "execution_count": 19,
   "metadata": {
    "ExecuteTime": {
     "end_time": "2020-11-10T01:55:55.072177Z",
     "start_time": "2020-11-10T01:55:55.062160Z"
    }
   },
   "outputs": [
    {
     "name": "stdout",
     "output_type": "stream",
     "text": [
      "2\n"
     ]
    },
    {
     "data": {
      "text/plain": [
       "[5, 5, 2, 3, 4, 7]"
      ]
     },
     "execution_count": 19,
     "metadata": {},
     "output_type": "execute_result"
    }
   ],
   "source": [
    "class Solution:\n",
    "    def nextPermutation(self, nums):\n",
    "        \"\"\"\n",
    "        Do not return anything, modify nums in-place instead.\n",
    "        \"\"\"\n",
    "        c = 0\n",
    "        n = len(nums)\n",
    "        if n < 2:\n",
    "            return nums\n",
    "        for i in range(n-1,0,-1):\n",
    "            if nums[i]>nums[i-1]:\n",
    "                for j in range(n-1,i-1,-1):\n",
    "                    if nums[j] > nums[i-1]:\n",
    "                        nums[j],nums[i-1] = nums[i-1],nums[j]\n",
    "                        c = 1\n",
    "                        break\n",
    "                print(i)\n",
    "                for y in range(n-i):\n",
    "                    for s in range(i,n-y-1):\n",
    "                        if nums[s]>nums[s+1]:\n",
    "                            nums[s],nums[s+1] = nums[s+1],nums[s]\n",
    "        if c == 0:\n",
    "            for x in range(n//2):\n",
    "                nums[x],nums[n-1-x] = nums[n-1-x],nums[x]\n",
    "\n",
    "        return nums\n",
    "Solution().nextPermutation([5,4,7,5,3,2])\n",
    "#[5,5,2,3,4,7]"
   ]
  },
  {
   "cell_type": "code",
   "execution_count": null,
   "metadata": {},
   "outputs": [],
   "source": []
  },
  {
   "cell_type": "code",
   "execution_count": 10,
   "metadata": {
    "ExecuteTime": {
     "end_time": "2020-11-09T14:15:41.534122Z",
     "start_time": "2020-11-09T14:15:41.527141Z"
    }
   },
   "outputs": [
    {
     "data": {
      "text/plain": [
       "(2, [2, 2])"
      ]
     },
     "execution_count": 10,
     "metadata": {},
     "output_type": "execute_result"
    }
   ],
   "source": [
    "class Solution:\n",
    "    def removeElement(self, nums, val):\n",
    "        n = len(nums)\n",
    "        if n==1:\n",
    "            return [] if nums[0]==val else nums\n",
    "            \n",
    "        c = n-1\n",
    "        i = 0\n",
    "        while i < n and i<c:\n",
    "            if nums[i]==val:\n",
    "                if nums[c] != val:\n",
    "                    nums[i],nums[c] = nums[c],nums[i]\n",
    "                else:\n",
    "                    while nums[c]==val:\n",
    "                        c -= 1\n",
    "                    nums[i],nums[c] = nums[c],nums[i]\n",
    "                c -= 1\n",
    "            i += 1\n",
    "        return c+1,nums[:c+1]\n",
    "Solution().removeElement([3,2,2,3],3)"
   ]
  },
  {
   "cell_type": "markdown",
   "metadata": {},
   "source": [
    "lc122、股票买卖2"
   ]
  },
  {
   "cell_type": "code",
   "execution_count": 12,
   "metadata": {
    "ExecuteTime": {
     "end_time": "2020-11-08T07:18:10.353306Z",
     "start_time": "2020-11-08T07:18:10.341320Z"
    }
   },
   "outputs": [
    {
     "name": "stdout",
     "output_type": "stream",
     "text": [
      "0 1\n",
      "1 2\n"
     ]
    },
    {
     "data": {
      "text/plain": [
       "4"
      ]
     },
     "execution_count": 12,
     "metadata": {},
     "output_type": "execute_result"
    }
   ],
   "source": [
    "class Solution:\n",
    "    def maxProfit(self, prices):\n",
    "        n = len(prices)\n",
    "        if n<2:\n",
    "            return 0\n",
    "        elif n==2:\n",
    "            if prices[0]<prices[1]:\n",
    "                return prices[1]-prices[0]\n",
    "            else:\n",
    "                return 0\n",
    "        else:\n",
    "            i,j,s = 0,1,0\n",
    "            re = 0\n",
    "            while j<n:\n",
    "                print(i,j)\n",
    "                if prices[i]<prices[j]:\n",
    "                    if j<n-1:\n",
    "                        i += 1\n",
    "                        j += 1\n",
    "                    else:\n",
    "                        re += (prices[j]-prices[s])\n",
    "                        break\n",
    "                else:\n",
    "                    if j-s > 1:\n",
    "                        re += (prices[j-1]-prices[s])\n",
    "                    i,j,s = j,j+1,j\n",
    "            return re\n",
    "Solution().maxProfit([1,5,3])"
   ]
  },
  {
   "cell_type": "code",
   "execution_count": 13,
   "metadata": {
    "ExecuteTime": {
     "end_time": "2020-11-20T04:06:59.384582Z",
     "start_time": "2020-11-20T04:06:59.379596Z"
    }
   },
   "outputs": [
    {
     "data": {
      "text/plain": [
       "['11', '123']"
      ]
     },
     "execution_count": 13,
     "metadata": {},
     "output_type": "execute_result"
    }
   ],
   "source": [
    "x = ['11','12']\n",
    "x[-1]= x[-1]+'3'\n",
    "x"
   ]
  },
  {
   "cell_type": "markdown",
   "metadata": {},
   "source": [
    "40 组合总和2"
   ]
  },
  {
   "cell_type": "code",
   "execution_count": 3,
   "metadata": {
    "ExecuteTime": {
     "end_time": "2020-11-04T14:21:16.799352Z",
     "start_time": "2020-11-04T14:21:16.791373Z"
    }
   },
   "outputs": [
    {
     "data": {
      "text/plain": [
       "[[1, 1, 6], [1, 2, 5], [1, 7], [2, 6]]"
      ]
     },
     "execution_count": 3,
     "metadata": {},
     "output_type": "execute_result"
    }
   ],
   "source": [
    "class Solution:\n",
    "    def combinationSum2(self, candidates, target):\n",
    "        if target == 0 or len(candidates) == 0:\n",
    "            return []\n",
    "        re = []\n",
    "        candidates.sort()\n",
    "        def helper(tar, idx, cur):\n",
    "            # 回溯算法\n",
    "            if tar == 0:\n",
    "                re.append(cur[:])\n",
    "                # 这里是复制很重要！！！ 这也是回溯的关键，后面要撤销，所以只能是复制\n",
    "                return\n",
    "            for i in range(idx, len(candidates)):\n",
    "                # 两个剪纸  一个break  一个continue  理解这两个很重要！！！\n",
    "                # 第一个是当前的待选的值大于目标值时已经不可能满足条件了，跳出（这次选择）这层循环   break\n",
    "                # 第二个是同一层直选一次相同的数字   continue\n",
    "                    #（这里要明白同一层直选一次，并不是重复的数字不选，而是在下一层选，一层选一次，计算一次）\n",
    "                if candidates[i] > tar:\n",
    "                    break\n",
    "                if i > idx and candidates[i] == candidates[i - 1]:\n",
    "                    continue\n",
    "                cur.append(candidates[i])\n",
    "                # 做选择\n",
    "                helper(tar - candidates[i], i + 1, cur)\n",
    "                cur.pop()\n",
    "                # 撤销选择\n",
    "        helper(target, 0, [])\n",
    "        return re\n",
    "Solution().combinationSum2([1,1,2,5,6,7,10],8)"
   ]
  },
  {
   "cell_type": "markdown",
   "metadata": {
    "ExecuteTime": {
     "end_time": "2020-10-30T02:28:33.579070Z",
     "start_time": "2020-10-30T02:28:33.575043Z"
    }
   },
   "source": [
    "463. 岛屿的周长"
   ]
  },
  {
   "cell_type": "code",
   "execution_count": 19,
   "metadata": {
    "ExecuteTime": {
     "end_time": "2020-10-30T09:41:27.436918Z",
     "start_time": "2020-10-30T09:41:27.418469Z"
    }
   },
   "outputs": [
    {
     "data": {
      "text/plain": [
       "4"
      ]
     },
     "execution_count": 19,
     "metadata": {},
     "output_type": "execute_result"
    }
   ],
   "source": [
    "class Solution:\n",
    "    def islandPerimeter(self, grid):\n",
    "        m = len(grid)\n",
    "        n = len(grid[0])\n",
    "        c = 0\n",
    "        l1 = 0\n",
    "        for i in range(m):\n",
    "            c += grid[i].count(1)\n",
    "            q,w = 0,1\n",
    "            while w<n:\n",
    "                if w<n and grid[i][q]==1 and grid[i][w]==1:\n",
    "                    l1 += 1\n",
    "                q += 1\n",
    "                w += 1\n",
    "        for j in range(n):\n",
    "            e,r = 0,1\n",
    "            while r<m:\n",
    "                if r<m and grid[e][j]==grid[r][j]==1:\n",
    "                    l1+=1\n",
    "                e+=1\n",
    "                r+=1\n",
    "        return 4*c-l1*2\n",
    "\n",
    "grid = [[1],[0]]\n",
    "Solution().islandPerimeter(grid)\n"
   ]
  },
  {
   "cell_type": "markdown",
   "metadata": {},
   "source": [
    "#763 划分字母区间"
   ]
  },
  {
   "cell_type": "code",
   "execution_count": 15,
   "metadata": {
    "ExecuteTime": {
     "end_time": "2020-10-22T11:49:20.361745Z",
     "start_time": "2020-10-22T11:49:20.258365Z"
    }
   },
   "outputs": [
    {
     "data": {
      "text/plain": [
       "[9, 7, 8]"
      ]
     },
     "execution_count": 15,
     "metadata": {},
     "output_type": "execute_result"
    }
   ],
   "source": [
    "class Solution:\n",
    "    def partitionLabels(self, S):\n",
    "        n = len(S)\n",
    "        re = list()\n",
    "        s = 0\n",
    "        e = 0\n",
    "        while e<n and s<n:\n",
    "            start = s\n",
    "            end = S.rfind(S[start])\n",
    "            if end==start:\n",
    "                re.append(1)\n",
    "                e = end\n",
    "                s = e+1\n",
    "            else:\n",
    "                tem = set()\n",
    "                tem.add(S[start])\n",
    "                while start<end:\n",
    "    \n",
    "                    if S[start] in tem:\n",
    "                        start += 1\n",
    "                    else:\n",
    "                        end0 = S.rfind(S[start])\n",
    "                        if end0>end:\n",
    "                            end = end0\n",
    "                        tem.add(S[start])\n",
    "                        start += 1\n",
    "                re.append(end-s+1)\n",
    "                e = end\n",
    "                s = e+1\n",
    "        return re\n",
    "S = \"ababcbacadefegdehijhklij\"\n",
    "Solution().partitionLabels(S)"
   ]
  },
  {
   "cell_type": "code",
   "execution_count": 2,
   "metadata": {
    "ExecuteTime": {
     "end_time": "2020-10-21T07:56:11.647106Z",
     "start_time": "2020-10-21T07:56:11.638165Z"
    }
   },
   "outputs": [
    {
     "name": "stdout",
     "output_type": "stream",
     "text": [
      "4 5\n"
     ]
    },
    {
     "data": {
      "text/plain": [
       "False"
      ]
     },
     "execution_count": 2,
     "metadata": {},
     "output_type": "execute_result"
    }
   ],
   "source": [
    "class Solution:\n",
    "    def isLongPressedName(self, name, typed):\n",
    "        n = len(name)\n",
    "        t = len(typed)\n",
    "        i,j = 0,0\n",
    "        while i+1<n and j+1<t:\n",
    "            if name[i]==typed[j]:\n",
    "                if name[i]==name[i+1]==typed[j+1]:\n",
    "                    i += 1\n",
    "                    j += 1\n",
    "                elif name[i]==typed[j+1]:\n",
    "                    j += 1\n",
    "                else:\n",
    "                    i += 1\n",
    "                    j += 1\n",
    "            else:\n",
    "                return False\n",
    "        print(i,j)\n",
    "        if i==n-2:\n",
    "            return name[i:]==typed[j:]\n",
    "        if i==n-1 and j==t-1:\n",
    "            return True\n",
    "        else:\n",
    "            return False \n",
    "Solution().isLongPressedName(\"vtkgn\",\"vttkgnn\")"
   ]
  },
  {
   "cell_type": "code",
   "execution_count": 23,
   "metadata": {
    "ExecuteTime": {
     "end_time": "2020-10-20T00:47:23.082113Z",
     "start_time": "2020-10-20T00:47:23.072117Z"
    }
   },
   "outputs": [
    {
     "name": "stdout",
     "output_type": "stream",
     "text": [
      "2 0\n",
      "C\n",
      "1 0\n",
      "\n",
      "0 1\n",
      "\n"
     ]
    },
    {
     "data": {
      "text/plain": [
       "['', '', 'C']"
      ]
     },
     "execution_count": 23,
     "metadata": {},
     "output_type": "execute_result"
    }
   ],
   "source": [
    "class Solution:\n",
    "    def intToRoman(self, num):\n",
    "        d = [0]*4\n",
    "        d[0] = {1:'I',2:'II',3:'III',4:'IV',5:'V',6:'VI',7:'VII',8:'VIII',9:'IX',0:''}\n",
    "        d[1] = {10:'X',20:'XX',30:'XXX',40:'IL',50:'L',60:'LX',70:'LXX',80:'LXXX',90:'XC',0:''}\n",
    "        d[2] = {100:'C',200:'CC',300:'CCC',400:'CD',500:'D',600:'DC',700:'DCC',800:'DCCC',900:'CM',0:''}\n",
    "        d[3] = {1000:'M',2000:'MM',3000:'MMM'}\n",
    "        num = str(num)\n",
    "        n = len(num)\n",
    "        re = []\n",
    "        for i in range(n-1,-1,-1):\n",
    "            print(i,num[i])\n",
    "            x = int(num[::-1][i])*(10**i)\n",
    "            print(d[i][x])\n",
    "            re.insert(0,d[i][x])\n",
    "        return re\n",
    "s = Solution()\n",
    "s.intToRoman(100)"
   ]
  },
  {
   "cell_type": "code",
   "execution_count": null,
   "metadata": {},
   "outputs": [],
   "source": [
    "输入: 1994\n",
    "输出: \"MCMXCIV\"\n",
    "解释: M = 1000, CM = 900, XC = 90, IV = 4."
   ]
  },
  {
   "cell_type": "markdown",
   "metadata": {},
   "source": [
    "1031. 两个非重叠子数组的最大和\n",
    "[8,20,6,2,20,17,6,3,20,8,12]\n",
    "5\n",
    "4\n",
    "输出：\n",
    "102\n",
    "预期：\n",
    "108"
   ]
  },
  {
   "cell_type": "code",
   "execution_count": 51,
   "metadata": {
    "ExecuteTime": {
     "end_time": "2020-09-25T14:15:28.177513Z",
     "start_time": "2020-09-25T14:15:28.168535Z"
    }
   },
   "outputs": [
    {
     "data": {
      "text/plain": [
       "20"
      ]
     },
     "execution_count": 51,
     "metadata": {},
     "output_type": "execute_result"
    }
   ],
   "source": [
    "class Solution:\n",
    "    def maxSumTwoNoOverlap(self,A, L, M):\n",
    "        def fun(s,x):\n",
    "            r = 0\n",
    "            if len(s)<x:\n",
    "                return r\n",
    "            else:\n",
    "                for j in range(len(s)-x+1):\n",
    "                    if sum(s[j:j+x])>r:\n",
    "                        r = sum(s[j:j+x])\n",
    "                return r\n",
    "        re = 0\n",
    "        na = len(A)\n",
    "        for i in range(na-L+1):\n",
    "            if (sum(A[i:i+L])+max(fun(A[:i],M),fun(A[i+L:],M)))>re:\n",
    "                re = (sum(A[i:i+L])+max(fun(A[:i],M),fun(A[i+L:],M)))\n",
    "                #print(A[i:i+L],re)\n",
    "        return re\n",
    "\n",
    "A = [0,6,5,2,2,5,1,9,4]\n",
    "L,M = 2,1\n",
    "s=Solution()\n",
    "s.maxSumTwoNoOverlap(A,L,M)"
   ]
  },
  {
   "cell_type": "markdown",
   "metadata": {},
   "source": [
    "5. 最长回文子串"
   ]
  },
  {
   "cell_type": "code",
   "execution_count": 48,
   "metadata": {
    "ExecuteTime": {
     "end_time": "2020-09-25T14:13:18.009001Z",
     "start_time": "2020-09-25T14:13:18.002982Z"
    }
   },
   "outputs": [
    {
     "data": {
      "text/plain": [
       "'bb'"
      ]
     },
     "execution_count": 48,
     "metadata": {},
     "output_type": "execute_result"
    }
   ],
   "source": [
    "class Solution:\n",
    "    def longestPalindrome(self, s):\n",
    "        if len(s)<2:\n",
    "            return s\n",
    "        r = ''\n",
    "        for i in range(len(s)):\n",
    "            t = ''\n",
    "            for j in range(len(s),i,-1):\n",
    "                if s[i:j]==s[i:j][::-1]:\n",
    "                    t = s[i:j]\n",
    "                    break\n",
    "            if len(t)>len(r):\n",
    "                r = t\n",
    "        return r\n",
    "Solution().longestPalindrome(\"bb\")"
   ]
  },
  {
   "cell_type": "markdown",
   "metadata": {},
   "source": [
    "https://leetcode-cn.com/problems/longest-palindromic-substring/solution/hui-wen-wen-ti-dong-tai-gui-hua-jspython5-zui-chan/"
   ]
  },
  {
   "cell_type": "code",
   "execution_count": 49,
   "metadata": {
    "ExecuteTime": {
     "end_time": "2020-09-25T14:13:52.984466Z",
     "start_time": "2020-09-25T14:13:52.976486Z"
    }
   },
   "outputs": [
    {
     "data": {
      "text/plain": [
       "'bb'"
      ]
     },
     "execution_count": 49,
     "metadata": {},
     "output_type": "execute_result"
    }
   ],
   "source": [
    "class Solution:\n",
    "    def longestPalindrome(self, s):\n",
    "        n = len(s)\n",
    "        if n<2:\n",
    "            return s\n",
    "        res = s[0]\n",
    "        # 找到最长的回文串\n",
    "        def extend(i, j, s):\n",
    "            while(i >= 0 and j < len(s) and s[i] == s[j]):\n",
    "                i -= 1\n",
    "                j += 1\n",
    "            return s[i + 1:j]\n",
    "        # 以两种回文串为base开始延伸  例子：a  bb  取最大的\n",
    "        for i in range(n - 1):\n",
    "            e1 = extend(i, i, s)\n",
    "            e2 = extend(i, i + 1, s) \n",
    "            if max(len(e1), len(e2)) > len(res):\n",
    "                res = e1 if len(e1) > len(e2) else e2\n",
    "        return res\n",
    "Solution().longestPalindrome(\"bb\")"
   ]
  },
  {
   "cell_type": "markdown",
   "metadata": {},
   "source": [
    "6. Z字形变换\n",
    "https://leetcode-cn.com/problems/zigzag-conversion/solution/zzi-xing-bian-huan-by-jyd/\n",
    "模拟每一行的打印顺序，从0-n-1行，再从n-1行到0行，依次存入相对应的行集合，最后合并行集合。"
   ]
  },
  {
   "cell_type": "code",
   "execution_count": 72,
   "metadata": {
    "ExecuteTime": {
     "end_time": "2020-09-27T09:46:08.851878Z",
     "start_time": "2020-09-27T09:46:08.845880Z"
    }
   },
   "outputs": [
    {
     "name": "stdout",
     "output_type": "stream",
     "text": [
      "['LDR', 'EOEII', 'ECIHN', 'TSG']\n"
     ]
    },
    {
     "data": {
      "text/plain": [
       "'LDREOEIIECIHNTSG'"
      ]
     },
     "execution_count": 72,
     "metadata": {},
     "output_type": "execute_result"
    }
   ],
   "source": [
    "class Solution:\n",
    "    def convert(self, s, numRows):\n",
    "        if len(s)<=numRows or numRows==1:\n",
    "            return s\n",
    "        re = ['' for i in range(numRows)]\n",
    "        h, v = 0, -1\n",
    "        for x in s:\n",
    "            re[h] += x\n",
    "            # 每次到第一行和最后一行进行变符号  即0-n-1行为升序 h+1  n-1行到0行为降序  h-1，\n",
    "            if h == 0 or h == numRows-1:\n",
    "                v *= -1\n",
    "            h += v\n",
    "        print(re)\n",
    "        return ''.join(re)\n",
    "s = \"LEETCODEISHIRING\"\n",
    "numRows = 4       \n",
    "Solution().convert(s,numRows)"
   ]
  },
  {
   "cell_type": "code",
   "execution_count": 30,
   "metadata": {
    "ExecuteTime": {
     "end_time": "2020-09-27T11:42:39.918882Z",
     "start_time": "2020-09-27T11:42:39.908872Z"
    }
   },
   "outputs": [
    {
     "name": "stdout",
     "output_type": "stream",
     "text": [
      "0000000000012345678\n"
     ]
    },
    {
     "data": {
      "text/plain": [
       "0"
      ]
     },
     "execution_count": 30,
     "metadata": {},
     "output_type": "execute_result"
    }
   ],
   "source": [
    "class Solution:\n",
    "    def myAtoi(self, str):\n",
    "        str = str.lstrip()\n",
    "        print(str)\n",
    "        if len(str)==0:\n",
    "            return 0\n",
    "        if len(str)==1:\n",
    "            if str.isdigit():\n",
    "                return int(str)\n",
    "            else:\n",
    "                return 0\n",
    "        if str[0] in '123456789+-' and str[1:].isdigit():\n",
    "            if int(str)>2**31-1:\n",
    "                return 2**31-1\n",
    "            if int(str)<-2**31:\n",
    "                return -2**31\n",
    "            else:\n",
    "                return int(str)\n",
    "        else:\n",
    "            if str[0] in '123456789+-':\n",
    "                for i in range(1,len(str)):\n",
    "                    if str[i] in '0123456789':\n",
    "                        continue\n",
    "                    else:\n",
    "                        break\n",
    "                if str[0] in '123456789':\n",
    "                    return int(str[:i])\n",
    "                else:\n",
    "                    if i>1:\n",
    "                        return int(str[:i])\n",
    "                    else:\n",
    "                        return 0\n",
    "            else:\n",
    "                return 0\n",
    "Solution().myAtoi(\"  0000000000012345678\")"
   ]
  },
  {
   "cell_type": "code",
   "execution_count": 3,
   "metadata": {
    "ExecuteTime": {
     "end_time": "2020-09-28T04:00:48.149202Z",
     "start_time": "2020-09-28T04:00:48.144244Z"
    }
   },
   "outputs": [
    {
     "data": {
      "text/plain": [
       "False"
      ]
     },
     "execution_count": 3,
     "metadata": {},
     "output_type": "execute_result"
    }
   ],
   "source": [
    "s = 'ab'\n",
    "bool('' and ''[0] in {''[0],'.'})"
   ]
  },
  {
   "cell_type": "code",
   "execution_count": 59,
   "metadata": {
    "ExecuteTime": {
     "end_time": "2020-09-27T09:06:20.454257Z",
     "start_time": "2020-09-27T09:06:20.449269Z"
    }
   },
   "outputs": [
    {
     "data": {
      "text/plain": [
       "0"
      ]
     },
     "execution_count": 59,
     "metadata": {},
     "output_type": "execute_result"
    }
   ],
   "source": [
    "x=18\n",
    "(x-x//6*6)%4"
   ]
  }
 ],
 "metadata": {
  "kernelspec": {
   "display_name": "Python 3",
   "language": "python",
   "name": "python3"
  },
  "language_info": {
   "codemirror_mode": {
    "name": "ipython",
    "version": 3
   },
   "file_extension": ".py",
   "mimetype": "text/x-python",
   "name": "python",
   "nbconvert_exporter": "python",
   "pygments_lexer": "ipython3",
   "version": "3.6.10"
  }
 },
 "nbformat": 4,
 "nbformat_minor": 4
}
