{
 "cells": [
  {
   "cell_type": "code",
   "execution_count": 16,
   "metadata": {
    "ExecuteTime": {
     "end_time": "2020-09-21T03:28:36.836905Z",
     "start_time": "2020-09-21T03:28:36.828927Z"
    }
   },
   "outputs": [
    {
     "name": "stdout",
     "output_type": "stream",
     "text": [
      "(102, 4, 0, [8, 20, 6, 2], [20, 17, 6, 3, 20])\n"
     ]
    }
   ],
   "source": [
    "class Solution:\n",
    "    def maxSumTwoNoOverlap(self, A, L, M):\n",
    "        def fun(s,x):\n",
    "            tem = 0\n",
    "            p = 0\n",
    "            for i in range(len(s)-x+1):\n",
    "                if sum(s[i:i+x])>tem:\n",
    "                    tem = sum(s[i:i+x])\n",
    "                    p = i\n",
    "            return p,tem,s[p:p+x]\n",
    "        if L >= M:\n",
    "            l,rel,sl = fun(A,L)\n",
    "            rr = (A[:l]+A[l+L:])\n",
    "            r,rer,sr = fun(rr,M)\n",
    "        else:\n",
    "            r,rer,sr = fun(A,M)\n",
    "            ll = (A[:r]+A[r+M:])\n",
    "            l ,rel,sl= fun(ll,L)\n",
    "        return rel+rer,l,r,sr,sl\n",
    "A = [8,20,6,2,20,17,6,3,20,8,12]\n",
    "L = 5\n",
    "M = 4\n",
    "print(Solution().maxSumTwoNoOverlap(A,L,M))"
   ]
  },
  {
   "cell_type": "code",
   "execution_count": 2,
   "metadata": {
    "ExecuteTime": {
     "end_time": "2020-09-21T02:47:13.168109Z",
     "start_time": "2020-09-21T02:47:13.161167Z"
    }
   },
   "outputs": [
    {
     "name": "stdout",
     "output_type": "stream",
     "text": [
      "[1, 10, 11, 12, 13, 14, 15, 2, 3, 4, 5, 6, 7, 8, 9]\n"
     ]
    }
   ],
   "source": [
    "class Solution:\n",
    "    def lexicalOrder(self, n):\n",
    "        if n < 1:\n",
    "            return []\n",
    "        res = []\n",
    "        def dfs(cur):\n",
    "            if cur > n:\n",
    "                return\n",
    "            # 其实这样就相当于先序遍历\n",
    "            res.append(cur)\n",
    "            # N叉树遍历\n",
    "            for j in range(10):\n",
    "                dfs(cur * 10 + j)\n",
    "        # N叉树遍历\n",
    "        for i in range(1, 10):\n",
    "            dfs(i)\n",
    "        return res\n",
    "print(Solution().lexicalOrder(15))"
   ]
  },
  {
   "cell_type": "code",
   "execution_count": 28,
   "metadata": {
    "ExecuteTime": {
     "end_time": "2020-09-20T14:06:31.451650Z",
     "start_time": "2020-09-20T14:06:31.444669Z"
    }
   },
   "outputs": [
    {
     "name": "stdout",
     "output_type": "stream",
     "text": [
      "4.0 1 2.0\n",
      "16.0 0 8.0\n"
     ]
    },
    {
     "data": {
      "text/plain": [
       "8.0"
      ]
     },
     "execution_count": 28,
     "metadata": {},
     "output_type": "execute_result"
    }
   ],
   "source": [
    "class Solution:\n",
    "    def myPow(self, x, n):\n",
    "        if x == 0: \n",
    "            return 0\n",
    "        res = 1\n",
    "        if n < 0:\n",
    "            x, n = 1 / x, -n\n",
    "        while n:\n",
    "            if n & 1: \n",
    "                res = (x%(1e9+7) * res%(1e9+7))%(1e9+7)\n",
    "            x = (x%(1e9+7) * x%(1e9+7))%(1e9+7)\n",
    "            n >>= 1\n",
    "            print(x,n,res)\n",
    "        return res\n",
    "Solution().myPow(2,3)"
   ]
  },
  {
   "cell_type": "code",
   "execution_count": 2,
   "metadata": {
    "ExecuteTime": {
     "end_time": "2020-09-20T13:29:19.835447Z",
     "start_time": "2020-09-20T13:25:59.163128Z"
    }
   },
   "outputs": [
    {
     "name": "stdout",
     "output_type": "stream",
     "text": [
      "140625001.0\n"
     ]
    }
   ],
   "source": [
    "r = 1\n",
    "b = 2\n",
    "for i in range(1000000000):\n",
    "    r = (r%(1e9+7) * b%(1e9+7))%(1e9+7)\n",
    "print(r)"
   ]
  },
  {
   "cell_type": "code",
   "execution_count": 25,
   "metadata": {
    "ExecuteTime": {
     "end_time": "2020-09-20T13:56:17.273725Z",
     "start_time": "2020-09-20T13:55:22.545343Z"
    }
   },
   "outputs": [
    {
     "data": {
      "text/plain": [
       "616612417.0"
      ]
     },
     "execution_count": 25,
     "metadata": {},
     "output_type": "execute_result"
    }
   ],
   "source": [
    "m = 1e9+7\n",
    "def mypow(a,n):\n",
    "    if n == 0:\n",
    "        return 1\n",
    "    \n",
    "    if n & 1:\n",
    "        return a%m * mypow(a,n-1)%m\n",
    "    else:\n",
    "        return mypow(a,n//2)%m*mypow(a,n//2)%m\n",
    "mypow(2,100000000)"
   ]
  },
  {
   "cell_type": "code",
   "execution_count": 10,
   "metadata": {
    "ExecuteTime": {
     "end_time": "2020-09-20T13:34:02.057239Z",
     "start_time": "2020-09-20T13:34:02.051291Z"
    }
   },
   "outputs": [
    {
     "name": "stdout",
     "output_type": "stream",
     "text": [
      "3 5 1\n",
      "9.0 2 3.0\n",
      "9.0 2 3.0\n",
      "81.0 1 3.0\n",
      "81.0 1 3.0\n",
      "6561.0 0 243.0\n",
      "243.0\n"
     ]
    }
   ],
   "source": [
    "res = 1\n",
    "x = 3\n",
    "n = 5\n",
    "while n:\n",
    "    print(x,n,res)\n",
    "    if n & 1: \n",
    "        res = (x%(1e9+7) * res%(1e9+7))%(1e9+7)\n",
    "    x = (x%(1e9+7) * x%(1e9+7))%(1e9+7)\n",
    "    n >>= 1\n",
    "    print(x,n,res)\n",
    "print(res)"
   ]
  },
  {
   "cell_type": "code",
   "execution_count": 26,
   "metadata": {
    "ExecuteTime": {
     "end_time": "2020-09-20T13:58:39.246247Z",
     "start_time": "2020-09-20T13:58:39.242278Z"
    }
   },
   "outputs": [
    {
     "data": {
      "text/plain": [
       "173235"
      ]
     },
     "execution_count": 26,
     "metadata": {},
     "output_type": "execute_result"
    }
   ],
   "source": []
  },
  {
   "cell_type": "code",
   "execution_count": 17,
   "metadata": {
    "ExecuteTime": {
     "end_time": "2020-09-20T13:37:37.379959Z",
     "start_time": "2020-09-20T13:37:37.375935Z"
    }
   },
   "outputs": [
    {
     "data": {
      "text/plain": [
       "0"
      ]
     },
     "execution_count": 17,
     "metadata": {},
     "output_type": "execute_result"
    }
   ],
   "source": [
    "8>>4"
   ]
  },
  {
   "cell_type": "code",
   "execution_count": 15,
   "metadata": {
    "ExecuteTime": {
     "end_time": "2020-09-20T13:36:38.005126Z",
     "start_time": "2020-09-20T13:36:38.001128Z"
    }
   },
   "outputs": [
    {
     "data": {
      "text/plain": [
       "0"
      ]
     },
     "execution_count": 15,
     "metadata": {},
     "output_type": "execute_result"
    }
   ],
   "source": [
    "14&1"
   ]
  }
 ],
 "metadata": {
  "kernelspec": {
   "display_name": "Python 3",
   "language": "python",
   "name": "python3"
  },
  "language_info": {
   "codemirror_mode": {
    "name": "ipython",
    "version": 3
   },
   "file_extension": ".py",
   "mimetype": "text/x-python",
   "name": "python",
   "nbconvert_exporter": "python",
   "pygments_lexer": "ipython3",
   "version": "3.6.10"
  }
 },
 "nbformat": 4,
 "nbformat_minor": 4
}
