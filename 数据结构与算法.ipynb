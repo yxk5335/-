{
 "cells": [
  {
   "cell_type": "markdown",
   "metadata": {},
   "source": [
    " # 数据结构与算法"
   ]
  },
  {
   "cell_type": "markdown",
   "metadata": {},
   "source": [
    "Python的变量是内存及其地址的抽象，变量的实现方式称为变量的 *引用语义* ：在变量里保存值（对象）的引用。\n",
    "python变量的值都是对象。"
   ]
  },
  {
   "cell_type": "markdown",
   "metadata": {},
   "source": [
    "结构性数据结构：线性结构，树结构，图结构等，它们的数据元素之间有某种确定的关系  \n",
    "功能性数据结构：满足某种功能要求，如栈、队列、字典等"
   ]
  },
  {
   "cell_type": "markdown",
   "metadata": {},
   "source": [
    "##1.线性表\n",
    "    顺序表:list是一种分离式实现的动态顺序表\n",
    "    链表: 单链表由表结点（value,next）构成，结点包含自身元素和下一个结点地址，从而达到一个连着一个的链表结构。\n",
    "由于不必须按顺序存储，链表在插入的时候可以达到 O(1)的复杂度，比另一种线性表 —— 顺序表快得多，但是查找一个节点或者访问特定index的节点则需要 O(n)的时间，而顺序表相应的时间复杂度分别是O(log n) 和 O(1)。\n",
    "使用链表结构可以克服数组链表需要预先知道数据大小的缺点，链表结构可以充分利用计算机内存空间，实现灵活的内存动态管理。但是链表失去了数组随机读取的优点，同时链表由于增加了结点的指针域，空间开销比较大。"
   ]
  },
  {
   "cell_type": "code",
   "execution_count": 1,
   "metadata": {
    "ExecuteTime": {
     "end_time": "2020-07-15T08:19:08.373529Z",
     "start_time": "2020-07-15T08:19:08.368551Z"
    }
   },
   "outputs": [
    {
     "name": "stdout",
     "output_type": "stream",
     "text": [
      "[3, 4, 5, 7, 8, 9]\n",
      "[3, 4, 5, 7, 8, 9]\n"
     ]
    }
   ],
   "source": [
    "#两个列表相连  +  、 entend\n",
    "aa = [3,4,5]\n",
    "bb = [7,8,9]\n",
    "print(aa+bb)\n",
    "aa.extend(bb)\n",
    "print(aa)"
   ]
  },
  {
   "cell_type": "code",
   "execution_count": 2,
   "metadata": {
    "ExecuteTime": {
     "end_time": "2020-07-15T08:19:08.385485Z",
     "start_time": "2020-07-15T08:19:08.374514Z"
    }
   },
   "outputs": [
    {
     "name": "stdout",
     "output_type": "stream",
     "text": [
      "1 2 3 4 5 6 7 8 9 \n",
      "Linked List: \n",
      "-1 0 1 2 3 4 5 6 7 8 9 \n"
     ]
    }
   ],
   "source": [
    "#链表的实现，着重看下，add(value)、遍历。\n",
    "# bool(Node(None)) = Trun  bool(Node(None).value) = False\n",
    "class Node:\n",
    "    def __init__ (self, value = None, next = None):\n",
    "        self.value = value\n",
    "        self.next = next\n",
    "\n",
    "class LinkedList:\n",
    "    \n",
    "    def __init__(self):\n",
    "        #创建一个哑结点当head，输出的时候输出head.next\n",
    "        self.head = Node(None) \n",
    "        self.length = 0\n",
    "\n",
    "    def add_first(self, value):\n",
    "        node = Node(value, None)\n",
    "        node.next = self.head.next\n",
    "        self.head.next = node\n",
    "        self.length += 1   \n",
    "        \n",
    "    def add_last(self, value):\n",
    "        new_node = Node(value)\n",
    "        node = self.head\n",
    "        while node.next != None:\n",
    "            node = node.next\n",
    "        node.next = new_node\n",
    "        self.length += 1\n",
    "\n",
    "    def add(self, index, value):\n",
    "        if (index < 0 or index > self.length):\n",
    "            raise Outbound( 'index is out of bound' )\n",
    "        if not self.head.next:\n",
    "            raise Empty( 'LinkedList is empty' )\n",
    "        new_node = Node(value)\n",
    "        node = self.head\n",
    "        for i in range(index):\n",
    "            node = node.next\n",
    "        new_node.next = node.next;\n",
    "        node.next = new_node;\n",
    "        self.length += 1     \n",
    "                 \n",
    "    def printlist(self):\n",
    "        node = self.head.next\n",
    "        count = 0\n",
    "        while node and count<20:\n",
    "            print(node.value, end = \" \")\n",
    "            node = node.next\n",
    "            count = count + 1\n",
    "        print('')\n",
    "\n",
    "if __name__ == \"__main__\":\n",
    "    ll = LinkedList()\n",
    "    for i in range(1, 10):\n",
    "        ll.add_last(i)\n",
    "        #ll.add_end(i+1)\n",
    "    ll.printlist()\n",
    "    ll.add_first(0)    \n",
    "    ll.add_first(-1)\n",
    "    print('Linked List: ')\n",
    "    ll.printlist()"
   ]
  },
  {
   "cell_type": "markdown",
   "metadata": {
    "ExecuteTime": {
     "end_time": "2020-05-19T07:43:23.147640Z",
     "start_time": "2020-05-19T07:43:23.143614Z"
    }
   },
   "source": [
    "链表的合并、排序、翻转"
   ]
  },
  {
   "cell_type": "code",
   "execution_count": 3,
   "metadata": {
    "ExecuteTime": {
     "end_time": "2020-07-15T08:19:08.403436Z",
     "start_time": "2020-07-15T08:19:08.386482Z"
    }
   },
   "outputs": [
    {
     "data": {
      "text/plain": [
       "[1, 5, 6, 9, 13]"
      ]
     },
     "execution_count": 3,
     "metadata": {},
     "output_type": "execute_result"
    }
   ],
   "source": [
    "#链表的排序\n",
    "class Node:\n",
    "    def __init__ (self, value = None, next = None):\n",
    "        self.value = value\n",
    "        self.next = next\n",
    "def LL_sort(head):\n",
    "    #递归base\n",
    "    if head is None or head.next is None:\n",
    "        return head\n",
    "    mid = getmid(head)\n",
    "    rhead = mid.next\n",
    "    mid.next = None\n",
    "    return merge(LL_sort(head), LL_sort(rhead))\n",
    "    #head = [9 -> 1 -> 13 -> 6 -> 5]\n",
    "    #merge(merge(9 -> 1 -> 13),merge(6 -> 5))\n",
    "    #merge((merge(9 -> 1),merge(13)),merge(6 -> 5))\n",
    "    #merge(((merge(9),merge(1)),merge(13)),merge(6 -> 5))\n",
    "    #merge(merge((1 -> 9),13),merge(6 -> 5))\n",
    "    #merge(1 -> 9 -> 13,(merge(6),merge(5)))\n",
    "    #merge((1 -> 9 -> 13),(5 -> 6))\n",
    "    #merge(1 -> 5 -> 6 -> 9 -> 13)  --[1 -> 5 -> 6 -> 9 -> 13]\n",
    "#找到链表中间结点\n",
    "def getmid(head):\n",
    "    if head is None:\n",
    "        return head\n",
    "    f, s = head, head\n",
    "    while f.next and f.next.next:\n",
    "        s, f = s.next, f.next.next\n",
    "    return s\n",
    "#归并\n",
    "def merge(lhead, rhead):\n",
    "    dh =  dn = Node(0)\n",
    "    while lhead and rhead:\n",
    "        if lhead.value <  rhead.value:\n",
    "            dn.next = lhead\n",
    "            lhead = lhead.next\n",
    "        else:\n",
    "            dn.next = rhead\n",
    "            rhead = rhead.next\n",
    "        dn = dn.next\n",
    "    if lhead:\n",
    "        dn.next = lhead\n",
    "    elif rhead:\n",
    "        dn.next = rhead\n",
    "    return dh.next\n",
    "\n",
    "node1 = Node(9)\n",
    "node2 = Node(1)\n",
    "node3 = Node(13)\n",
    "node4 = Node(6)\n",
    "node5 = Node(5)\n",
    "node1.next = node2\n",
    "node2.next = node3\n",
    "node3.next = node4\n",
    "node4.next = node5\n",
    "node = LL_sort(node1)\n",
    "re = []\n",
    "while node:\n",
    "    re.append(node.value)\n",
    "    node = node.next\n",
    "re"
   ]
  },
  {
   "cell_type": "code",
   "execution_count": 4,
   "metadata": {
    "ExecuteTime": {
     "end_time": "2020-07-15T08:19:08.412448Z",
     "start_time": "2020-07-15T08:19:08.404434Z"
    }
   },
   "outputs": [
    {
     "data": {
      "text/plain": [
       "[5, 6, 13, 1, 9]"
      ]
     },
     "execution_count": 4,
     "metadata": {},
     "output_type": "execute_result"
    }
   ],
   "source": [
    "#链表的反转  循环\n",
    "class Node:\n",
    "    def __init__ (self, value = None, next = None):\n",
    "        self.value = value\n",
    "        self.next = next\n",
    "def ll_reverse(head):\n",
    "    if head.next is None or head is None:\n",
    "        return head\n",
    "    dn = None\n",
    "    cur = head\n",
    "    while cur:\n",
    "        tem = cur.next\n",
    "        cur.next = dn\n",
    "        dn = cur\n",
    "        cur = tem\n",
    "    return dn\n",
    "node1 = Node(9)\n",
    "node2 = Node(1)\n",
    "node3 = Node(13)\n",
    "node4 = Node(6)\n",
    "node5 = Node(5)\n",
    "node1.next = node2\n",
    "node2.next = node3\n",
    "node3.next = node4\n",
    "node4.next = node5\n",
    "node = ll_reverse(node1)\n",
    "re = []\n",
    "while node:\n",
    "    re.append(node.value)\n",
    "    node = node.next\n",
    "re      "
   ]
  },
  {
   "cell_type": "code",
   "execution_count": 5,
   "metadata": {
    "ExecuteTime": {
     "end_time": "2020-07-15T08:19:08.428370Z",
     "start_time": "2020-07-15T08:19:08.413409Z"
    }
   },
   "outputs": [
    {
     "data": {
      "text/plain": [
       "[2, 4, 11, 31, 55]"
      ]
     },
     "execution_count": 5,
     "metadata": {},
     "output_type": "execute_result"
    }
   ],
   "source": [
    "#插入排序 链表实现\n",
    "class Node:\n",
    "    def __init__ (self, val = None, next = None):\n",
    "        self.val = val\n",
    "        self.next = next\n",
    "\n",
    "class Solution:\n",
    "    def insertionSortList(self, head: Node):\n",
    "        if head is None or head.next is None:\n",
    "            return head\n",
    "        tem = head\n",
    "        head = head.next\n",
    "        tem.next = None\n",
    "        l, r = tem, head\n",
    "        lc, rc = l, r\n",
    "        while rc:\n",
    "            rcc = rc\n",
    "            rc = rcc.next\n",
    "            rcc.next = None\n",
    "            if lc.next is None:\n",
    "                if lc.val < rcc.val:\n",
    "                    lc.next = rcc\n",
    "                else:\n",
    "                    rcc.next = lc\n",
    "                    lc = rcc\n",
    "                continue\n",
    "            q, h =lc, lc.next\n",
    "            if rcc.val < q.val:\n",
    "                rcc.next = q\n",
    "                lc = rcc\n",
    "                continue\n",
    "            while h and h.val < rcc.val:\n",
    "                q = q.next\n",
    "                h = h.next\n",
    "            if h:\n",
    "                q.next = rcc\n",
    "                rcc.next = h\n",
    "            else:\n",
    "                q.next = rcc\n",
    "        return lc\n",
    "node1 = Node(4)\n",
    "node2 = Node(2)\n",
    "node3 = Node(11)\n",
    "node4 = Node(31)\n",
    "node5 = Node(55)\n",
    "node1.next = node2\n",
    "node2.next = node3\n",
    "node3.next = node4\n",
    "node4.next = node5\n",
    "s = Solution()\n",
    "node = s.insertionSortList(node1)\n",
    "re = []\n",
    "while node:\n",
    "    re.append(node.val)\n",
    "    node = node.next\n",
    "re"
   ]
  },
  {
   "cell_type": "code",
   "execution_count": null,
   "metadata": {},
   "outputs": [],
   "source": []
  }
 ],
 "metadata": {
  "kernelspec": {
   "display_name": "Python 3",
   "language": "python",
   "name": "python3"
  },
  "language_info": {
   "codemirror_mode": {
    "name": "ipython",
    "version": 3
   },
   "file_extension": ".py",
   "mimetype": "text/x-python",
   "name": "python",
   "nbconvert_exporter": "python",
   "pygments_lexer": "ipython3",
   "version": "3.6.10"
  }
 },
 "nbformat": 4,
 "nbformat_minor": 4
}
